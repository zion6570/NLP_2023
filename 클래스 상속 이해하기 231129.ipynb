{
  "nbformat": 4,
  "nbformat_minor": 0,
  "metadata": {
    "colab": {
      "provenance": [],
      "authorship_tag": "ABX9TyMWCKfThetol9IFTpAULNA5",
      "include_colab_link": true
    },
    "kernelspec": {
      "name": "python3",
      "display_name": "Python 3"
    },
    "language_info": {
      "name": "python"
    }
  },
  "cells": [
    {
      "cell_type": "markdown",
      "metadata": {
        "id": "view-in-github",
        "colab_type": "text"
      },
      "source": [
        "<a href=\"https://colab.research.google.com/github/zion6570/NLP_2023/blob/main/%ED%81%B4%EB%9E%98%EC%8A%A4%20%EC%83%81%EC%86%8D%20%EC%9D%B4%ED%95%B4%ED%95%98%EA%B8%B0%20231129.ipynb\" target=\"_parent\"><img src=\"https://colab.research.google.com/assets/colab-badge.svg\" alt=\"Open In Colab\"/></a>"
      ]
    },
    {
      "cell_type": "code",
      "execution_count": 1,
      "metadata": {
        "colab": {
          "base_uri": "https://localhost:8080/"
        },
        "id": "_gaOPGn_f3de",
        "outputId": "032fc406-7617-4553-f637-9b691f8d7e88"
      },
      "outputs": [
        {
          "output_type": "stream",
          "name": "stdout",
          "text": [
            "3\n",
            "-1\n"
          ]
        }
      ],
      "source": [
        "class Add:\n",
        "  def add(self, n1, n2):\n",
        "    return n1 + n2\n",
        "\n",
        "class Calculator(Add):\n",
        "  def sub(self, n1, n2):\n",
        "    return n1 - n2\n",
        "\n",
        "obj = Calculator()\n",
        "print(obj.add(1, 2))\n",
        "print(obj.sub(1, 2))"
      ]
    }
  ]
}