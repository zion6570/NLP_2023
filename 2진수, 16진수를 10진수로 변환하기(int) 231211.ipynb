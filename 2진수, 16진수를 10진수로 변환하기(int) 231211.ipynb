{
  "nbformat": 4,
  "nbformat_minor": 0,
  "metadata": {
    "colab": {
      "provenance": [],
      "authorship_tag": "ABX9TyPB0S15so+ZN0fR6bYr9dkt",
      "include_colab_link": true
    },
    "kernelspec": {
      "name": "python3",
      "display_name": "Python 3"
    },
    "language_info": {
      "name": "python"
    }
  },
  "cells": [
    {
      "cell_type": "markdown",
      "metadata": {
        "id": "view-in-github",
        "colab_type": "text"
      },
      "source": [
        "<a href=\"https://colab.research.google.com/github/zion6570/NLP_2023/blob/main/2%EC%A7%84%EC%88%98%2C%2016%EC%A7%84%EC%88%98%EB%A5%BC%2010%EC%A7%84%EC%88%98%EB%A1%9C%20%EB%B3%80%ED%99%98%ED%95%98%EA%B8%B0(int)%20231211.ipynb\" target=\"_parent\"><img src=\"https://colab.research.google.com/assets/colab-badge.svg\" alt=\"Open In Colab\"/></a>"
      ]
    },
    {
      "cell_type": "code",
      "execution_count": 1,
      "metadata": {
        "colab": {
          "base_uri": "https://localhost:8080/"
        },
        "id": "h0dN85QzXdzD",
        "outputId": "06557dca-f679-4e08-d94f-f6dd05e2caf6"
      },
      "outputs": [
        {
          "output_type": "stream",
          "name": "stdout",
          "text": [
            "240\n",
            "240\n",
            "240\n",
            "240\n",
            "240\n",
            "240\n"
          ]
        }
      ],
      "source": [
        "bnum = 0b11110000; bstr = '0b11110000'\n",
        "onum = 0o360; ostr = '0o360'\n",
        "hnum = 0xf0; hstr = '0xf0'\n",
        "b1 = int(bnum); b2 = int(bstr, 2)\n",
        "o1 = int(onum); o2 = int(ostr, 8)\n",
        "h1 = int(hnum); h2 = int(hstr, 16)\n",
        "print(b1); print(b2)\n",
        "print(o1); print(o2)\n",
        "print(h1); print(h2)"
      ]
    }
  ]
}