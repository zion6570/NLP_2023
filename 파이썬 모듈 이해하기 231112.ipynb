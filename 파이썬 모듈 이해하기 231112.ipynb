{
  "nbformat": 4,
  "nbformat_minor": 0,
  "metadata": {
    "colab": {
      "provenance": [],
      "authorship_tag": "ABX9TyPSOL1DMMUhFeUpIB08LQY3",
      "include_colab_link": true
    },
    "kernelspec": {
      "name": "python3",
      "display_name": "Python 3"
    },
    "language_info": {
      "name": "python"
    }
  },
  "cells": [
    {
      "cell_type": "markdown",
      "metadata": {
        "id": "view-in-github",
        "colab_type": "text"
      },
      "source": [
        "<a href=\"https://colab.research.google.com/github/zion6570/NLP_2023/blob/main/%ED%8C%8C%EC%9D%B4%EC%8D%AC%20%EB%AA%A8%EB%93%88%20%EC%9D%B4%ED%95%B4%ED%95%98%EA%B8%B0%20231112.ipynb\" target=\"_parent\"><img src=\"https://colab.research.google.com/assets/colab-badge.svg\" alt=\"Open In Colab\"/></a>"
      ]
    },
    {
      "cell_type": "code",
      "execution_count": 1,
      "metadata": {
        "colab": {
          "base_uri": "https://localhost:8080/"
        },
        "id": "8hDj6F76bqfo",
        "outputId": "56838c92-0253-4ac7-a198-bd1a523560d9"
      },
      "outputs": [
        {
          "output_type": "stream",
          "name": "stdout",
          "text": [
            "5초간 프로그램을 정지합니다.\n",
            "5초가 지나갔습니다.\n"
          ]
        }
      ],
      "source": [
        "import time\n",
        "\n",
        "print('5초간 프로그램을 정지합니다.')\n",
        "time.sleep(5)\n",
        "print('5초가 지나갔습니다.')"
      ]
    }
  ]
}