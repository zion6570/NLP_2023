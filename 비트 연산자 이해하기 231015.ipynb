{
  "nbformat": 4,
  "nbformat_minor": 0,
  "metadata": {
    "colab": {
      "provenance": [],
      "authorship_tag": "ABX9TyMkLMaxNf+dzQpuSCAOcbNr",
      "include_colab_link": true
    },
    "kernelspec": {
      "name": "python3",
      "display_name": "Python 3"
    },
    "language_info": {
      "name": "python"
    }
  },
  "cells": [
    {
      "cell_type": "markdown",
      "metadata": {
        "id": "view-in-github",
        "colab_type": "text"
      },
      "source": [
        "<a href=\"https://colab.research.google.com/github/zion6570/NLP_2023/blob/main/%EB%B9%84%ED%8A%B8%20%EC%97%B0%EC%82%B0%EC%9E%90%20%EC%9D%B4%ED%95%B4%ED%95%98%EA%B8%B0%20231015.ipynb\" target=\"_parent\"><img src=\"https://colab.research.google.com/assets/colab-badge.svg\" alt=\"Open In Colab\"/></a>"
      ]
    },
    {
      "cell_type": "code",
      "execution_count": 3,
      "metadata": {
        "colab": {
          "base_uri": "https://localhost:8080/"
        },
        "id": "JqB3g3Xdk0yD",
        "outputId": "cf2d69f4-cbd7-439a-8ecc-7fd24b7155b9"
      },
      "outputs": [
        {
          "output_type": "stream",
          "name": "stdout",
          "text": [
            "0x60\n",
            "0x63\n",
            "0x3\n",
            "0x30\n",
            "0x184\n"
          ]
        }
      ],
      "source": [
        "bit1 = 0x61\n",
        "bit2 = 0x62\n",
        "print(hex(bit1 & bit2))\n",
        "print(hex(bit1 | bit2))\n",
        "print(hex(bit1 ^ bit2))\n",
        "print(hex(bit1 >> 1))\n",
        "print(hex(bit1 << 2))"
      ]
    }
  ]
}