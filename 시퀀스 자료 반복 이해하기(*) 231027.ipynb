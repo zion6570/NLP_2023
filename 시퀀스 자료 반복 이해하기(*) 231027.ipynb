{
  "nbformat": 4,
  "nbformat_minor": 0,
  "metadata": {
    "colab": {
      "provenance": [],
      "authorship_tag": "ABX9TyNbasbqnUrpHocz0QyXVYK5",
      "include_colab_link": true
    },
    "kernelspec": {
      "name": "python3",
      "display_name": "Python 3"
    },
    "language_info": {
      "name": "python"
    }
  },
  "cells": [
    {
      "cell_type": "markdown",
      "metadata": {
        "id": "view-in-github",
        "colab_type": "text"
      },
      "source": [
        "<a href=\"https://colab.research.google.com/github/zion6570/NLP_2023/blob/main/%EC%8B%9C%ED%80%80%EC%8A%A4%20%EC%9E%90%EB%A3%8C%20%EB%B0%98%EB%B3%B5%20%EC%9D%B4%ED%95%B4%ED%95%98%EA%B8%B0(*)%20231027.ipynb\" target=\"_parent\"><img src=\"https://colab.research.google.com/assets/colab-badge.svg\" alt=\"Open In Colab\"/></a>"
      ]
    },
    {
      "cell_type": "code",
      "execution_count": 1,
      "metadata": {
        "colab": {
          "base_uri": "https://localhost:8080/"
        },
        "id": "w15y920_j8DE",
        "outputId": "9f9dbf65-8883-4944-b5a0-1030b72df6ce"
      },
      "outputs": [
        {
          "output_type": "stream",
          "name": "stdout",
          "text": [
            "ARMY들이 외칩니다.BTS!BTS!BTS!\n"
          ]
        }
      ],
      "source": [
        "artist = 'BTS!'\n",
        "fan = 'ARMY'\n",
        "dispdata = fan + '들이 외칩니다.' + artist*3\n",
        "print(dispdata)"
      ]
    }
  ]
}