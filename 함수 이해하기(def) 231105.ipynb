{
  "nbformat": 4,
  "nbformat_minor": 0,
  "metadata": {
    "colab": {
      "provenance": [],
      "authorship_tag": "ABX9TyPMEWljRGG6zWy1YOh6bkqT",
      "include_colab_link": true
    },
    "kernelspec": {
      "name": "python3",
      "display_name": "Python 3"
    },
    "language_info": {
      "name": "python"
    }
  },
  "cells": [
    {
      "cell_type": "markdown",
      "metadata": {
        "id": "view-in-github",
        "colab_type": "text"
      },
      "source": [
        "<a href=\"https://colab.research.google.com/github/zion6570/NLP_2023/blob/main/%ED%95%A8%EC%88%98%20%EC%9D%B4%ED%95%B4%ED%95%98%EA%B8%B0(def)%20231105.ipynb\" target=\"_parent\"><img src=\"https://colab.research.google.com/assets/colab-badge.svg\" alt=\"Open In Colab\"/></a>"
      ]
    },
    {
      "cell_type": "code",
      "execution_count": 2,
      "metadata": {
        "colab": {
          "base_uri": "https://localhost:8080/"
        },
        "id": "zUbGmFvlVKiR",
        "outputId": "e2c81e2c-67db-4bd6-9a1c-ebf06223f7c0"
      },
      "outputs": [
        {
          "output_type": "stream",
          "name": "stdout",
          "text": [
            "25\n",
            "대한민국~만세!!\n"
          ]
        }
      ],
      "source": [
        "def add_number(n1, n2):\n",
        "  ret = n1 + n2\n",
        "  return ret\n",
        "\n",
        "def add_txt(t1, t2):\n",
        "  print(t1 + t2)\n",
        "\n",
        "ans = add_number(10, 15)\n",
        "print(ans)\n",
        "text1 = '대한민국~'\n",
        "text2 = '만세!!'\n",
        "add_txt(text1, text2)"
      ]
    }
  ]
}