{
  "nbformat": 4,
  "nbformat_minor": 0,
  "metadata": {
    "colab": {
      "provenance": [],
      "authorship_tag": "ABX9TyPBYVEt9YonWW5PGK07+SQc",
      "include_colab_link": true
    },
    "kernelspec": {
      "name": "python3",
      "display_name": "Python 3"
    },
    "language_info": {
      "name": "python"
    }
  },
  "cells": [
    {
      "cell_type": "markdown",
      "metadata": {
        "id": "view-in-github",
        "colab_type": "text"
      },
      "source": [
        "<a href=\"https://colab.research.google.com/github/zion6570/NLP_2023/blob/main/%ED%8A%9C%ED%94%8C%20%EC%9D%B4%ED%95%B4%ED%95%98%EA%B8%B0(()).ipynb\" target=\"_parent\"><img src=\"https://colab.research.google.com/assets/colab-badge.svg\" alt=\"Open In Colab\"/></a>"
      ]
    },
    {
      "cell_type": "code",
      "execution_count": 3,
      "metadata": {
        "colab": {
          "base_uri": "https://localhost:8080/"
        },
        "id": "ksRiJPdrHgsb",
        "outputId": "f136aa91-2335-43c1-84ee-2a16a7aed3cd"
      },
      "outputs": [
        {
          "output_type": "stream",
          "name": "stdout",
          "text": [
            "안녕하세요\n"
          ]
        }
      ],
      "source": [
        "tuple1 = (1,2,3,4,5)\n",
        "tuple2 = ('a','b','c')\n",
        "tuple3 = (1,'a','abc',[1,2,3,4,5],['a','b','c'])\n",
        "#tuple1[0] = 6\n",
        "\n",
        "def myfunc():\n",
        "  print('안녕하세요')\n",
        "\n",
        "tuple4 = (1,2,myfunc)\n",
        "tuple4[2]()"
      ]
    }
  ]
}