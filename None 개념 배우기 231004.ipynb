{
  "nbformat": 4,
  "nbformat_minor": 0,
  "metadata": {
    "colab": {
      "provenance": [],
      "authorship_tag": "ABX9TyNci2p0Y2b2YX8gtuTYAMrs",
      "include_colab_link": true
    },
    "kernelspec": {
      "name": "python3",
      "display_name": "Python 3"
    },
    "language_info": {
      "name": "python"
    }
  },
  "cells": [
    {
      "cell_type": "markdown",
      "metadata": {
        "id": "view-in-github",
        "colab_type": "text"
      },
      "source": [
        "<a href=\"https://colab.research.google.com/github/zion6570/NLP_2023/blob/main/None%20%EA%B0%9C%EB%85%90%20%EB%B0%B0%EC%9A%B0%EA%B8%B0%20231004.ipynb\" target=\"_parent\"><img src=\"https://colab.research.google.com/assets/colab-badge.svg\" alt=\"Open In Colab\"/></a>"
      ]
    },
    {
      "cell_type": "code",
      "execution_count": 2,
      "metadata": {
        "id": "JOdHDNVV6uAL"
      },
      "outputs": [],
      "source": [
        "val = None\n",
        "condition = 1\n",
        "if condition == 1:\n",
        "  val = [1,2,3]\n",
        "else:\n",
        "  val = ' I love python'"
      ]
    }
  ]
}