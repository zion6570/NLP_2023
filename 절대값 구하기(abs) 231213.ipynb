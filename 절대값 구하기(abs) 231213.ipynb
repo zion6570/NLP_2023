{
  "nbformat": 4,
  "nbformat_minor": 0,
  "metadata": {
    "colab": {
      "provenance": [],
      "authorship_tag": "ABX9TyNg3H1orCwQsdAwVgn/x6Wb",
      "include_colab_link": true
    },
    "kernelspec": {
      "name": "python3",
      "display_name": "Python 3"
    },
    "language_info": {
      "name": "python"
    }
  },
  "cells": [
    {
      "cell_type": "markdown",
      "metadata": {
        "id": "view-in-github",
        "colab_type": "text"
      },
      "source": [
        "<a href=\"https://colab.research.google.com/github/zion6570/NLP_2023/blob/main/%EC%A0%88%EB%8C%80%EA%B0%92%20%EA%B5%AC%ED%95%98%EA%B8%B0(abs)%20231213.ipynb\" target=\"_parent\"><img src=\"https://colab.research.google.com/assets/colab-badge.svg\" alt=\"Open In Colab\"/></a>"
      ]
    },
    {
      "cell_type": "code",
      "execution_count": 1,
      "metadata": {
        "colab": {
          "base_uri": "https://localhost:8080/"
        },
        "id": "A0ugGFpNMmec",
        "outputId": "e2e745e9-48d0-4d59-f642-f900fe55c416"
      },
      "outputs": [
        {
          "output_type": "stream",
          "name": "stdout",
          "text": [
            "3\n",
            "5.72\n",
            "5.0\n"
          ]
        }
      ],
      "source": [
        "abs1 = abs(-3)\n",
        "abs2 = abs(-5.72)\n",
        "abs3 = abs(3+4j)\n",
        "print(abs1)\n",
        "print(abs2)\n",
        "print(abs3)"
      ]
    }
  ]
}