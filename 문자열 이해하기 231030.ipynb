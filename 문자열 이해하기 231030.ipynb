{
  "nbformat": 4,
  "nbformat_minor": 0,
  "metadata": {
    "colab": {
      "provenance": [],
      "authorship_tag": "ABX9TyNBrs+RKN65P7HKEGj38gJe",
      "include_colab_link": true
    },
    "kernelspec": {
      "name": "python3",
      "display_name": "Python 3"
    },
    "language_info": {
      "name": "python"
    }
  },
  "cells": [
    {
      "cell_type": "markdown",
      "metadata": {
        "id": "view-in-github",
        "colab_type": "text"
      },
      "source": [
        "<a href=\"https://colab.research.google.com/github/zion6570/NLP_2023/blob/main/%EB%AC%B8%EC%9E%90%EC%97%B4%20%EC%9D%B4%ED%95%B4%ED%95%98%EA%B8%B0%20231030.ipynb\" target=\"_parent\"><img src=\"https://colab.research.google.com/assets/colab-badge.svg\" alt=\"Open In Colab\"/></a>"
      ]
    },
    {
      "cell_type": "code",
      "execution_count": 1,
      "metadata": {
        "id": "ikLu9D6vCNMr"
      },
      "outputs": [],
      "source": [
        "strdata1 = '나는 파이썬 프로그래머다'\n",
        "strdata2 = \"You are a programmer\"\n",
        "strdata3 = \"\"\"I love\n",
        "    python. You love\n",
        "python too!\n",
        "\"\"\"\n",
        "strdata4 = \"My son's name is John\"\n",
        "strdata5 = '문자열 \"abc\"의 길이는 3입니다.'"
      ]
    }
  ]
}