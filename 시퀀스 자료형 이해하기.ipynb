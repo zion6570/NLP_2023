{
  "nbformat": 4,
  "nbformat_minor": 0,
  "metadata": {
    "colab": {
      "provenance": [],
      "authorship_tag": "ABX9TyPPKptsK73y1iBsYPNkQcvU",
      "include_colab_link": true
    },
    "kernelspec": {
      "name": "python3",
      "display_name": "Python 3"
    },
    "language_info": {
      "name": "python"
    }
  },
  "cells": [
    {
      "cell_type": "markdown",
      "metadata": {
        "id": "view-in-github",
        "colab_type": "text"
      },
      "source": [
        "<a href=\"https://colab.research.google.com/github/zion6570/NLP_2023/blob/main/%EC%8B%9C%ED%80%80%EC%8A%A4%20%EC%9E%90%EB%A3%8C%ED%98%95%20%EC%9D%B4%ED%95%B4%ED%95%98%EA%B8%B0.ipynb\" target=\"_parent\"><img src=\"https://colab.research.google.com/assets/colab-badge.svg\" alt=\"Open In Colab\"/></a>"
      ]
    },
    {
      "cell_type": "code",
      "execution_count": null,
      "metadata": {
        "id": "7qCXW32gwnWf"
      },
      "outputs": [],
      "source": [
        "strdata = 'abcde' #문자열은 시퀀스 자료형임\n",
        "listdata = [1, [2, 3], '안녕'] #리스트는 시퀀스 자료형임\n",
        "tupledata = (100, 200, 300) #튜플은 시퀀스 자료형임"
      ]
    }
  ]
}