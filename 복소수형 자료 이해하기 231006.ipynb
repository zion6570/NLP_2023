{
  "nbformat": 4,
  "nbformat_minor": 0,
  "metadata": {
    "colab": {
      "provenance": [],
      "authorship_tag": "ABX9TyMYUbPoEjPZc+J1zFutEqvI",
      "include_colab_link": true
    },
    "kernelspec": {
      "name": "python3",
      "display_name": "Python 3"
    },
    "language_info": {
      "name": "python"
    }
  },
  "cells": [
    {
      "cell_type": "markdown",
      "metadata": {
        "id": "view-in-github",
        "colab_type": "text"
      },
      "source": [
        "<a href=\"https://colab.research.google.com/github/zion6570/NLP_2023/blob/main/%EB%B3%B5%EC%86%8C%EC%88%98%ED%98%95%20%EC%9E%90%EB%A3%8C%20%EC%9D%B4%ED%95%B4%ED%95%98%EA%B8%B0%20231006.ipynb\" target=\"_parent\"><img src=\"https://colab.research.google.com/assets/colab-badge.svg\" alt=\"Open In Colab\"/></a>"
      ]
    },
    {
      "cell_type": "code",
      "execution_count": 1,
      "metadata": {
        "colab": {
          "base_uri": "https://localhost:8080/"
        },
        "id": "edffWWcvYzq-",
        "outputId": "4256f651-fdaa-4ad6-e8dd-fbb2c85c26e6"
      },
      "outputs": [
        {
          "output_type": "stream",
          "name": "stdout",
          "text": [
            "1.0\n",
            "7.0\n",
            "(2+3j)\n"
          ]
        }
      ],
      "source": [
        "c1 = 1 + 7j\n",
        "print(c1.real); print(c1.imag)\n",
        "c2 = complex(2,3)\n",
        "print(c2)"
      ]
    }
  ]
}