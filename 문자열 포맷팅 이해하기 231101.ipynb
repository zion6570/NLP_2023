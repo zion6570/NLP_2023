{
  "nbformat": 4,
  "nbformat_minor": 0,
  "metadata": {
    "colab": {
      "provenance": [],
      "authorship_tag": "ABX9TyN18LEJC05AcrYDFz229uug",
      "include_colab_link": true
    },
    "kernelspec": {
      "name": "python3",
      "display_name": "Python 3"
    },
    "language_info": {
      "name": "python"
    }
  },
  "cells": [
    {
      "cell_type": "markdown",
      "metadata": {
        "id": "view-in-github",
        "colab_type": "text"
      },
      "source": [
        "<a href=\"https://colab.research.google.com/github/zion6570/NLP_2023/blob/main/%EB%AC%B8%EC%9E%90%EC%97%B4%20%ED%8F%AC%EB%A7%B7%ED%8C%85%20%EC%9D%B4%ED%95%B4%ED%95%98%EA%B8%B0%20231101.ipynb\" target=\"_parent\"><img src=\"https://colab.research.google.com/assets/colab-badge.svg\" alt=\"Open In Colab\"/></a>"
      ]
    },
    {
      "cell_type": "code",
      "execution_count": 3,
      "metadata": {
        "colab": {
          "base_uri": "https://localhost:8080/"
        },
        "id": "V5oIdw4yCZxr",
        "outputId": "0484711f-b0a2-4b9b-855b-c8f7e2bc6f4e"
      },
      "outputs": [
        {
          "output_type": "stream",
          "name": "stdout",
          "text": [
            "나는 자바보다 파이썬에 더 익숙합니다.\n",
            "파이썬는 자바보다 5배 더 쉽습니다.\n",
            "5 + 10 = 15\n",
            "작년 세계 경제 성장률은 전년에 비해 5% 포인트 증가다다.\n"
          ]
        }
      ],
      "source": [
        "txt1 = '자바'; txt2 = '파이썬'\n",
        "num1 = 5; num2 = 10\n",
        "print('나는 %s보다 %s에 더 익숙합니다.'%(txt1, txt2))\n",
        "print('%s는 %s보다 %d배 더 쉽습니다.'%(txt2, txt1, num1))\n",
        "print('%d + %d = %d'%(num1, num2, num1 + num2))\n",
        "print('작년 세계 경제 성장률은 전년에 비해 %d%% 포인트 증가다다.'%num1)"
      ]
    }
  ]
}