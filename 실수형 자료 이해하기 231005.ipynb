{
  "nbformat": 4,
  "nbformat_minor": 0,
  "metadata": {
    "colab": {
      "provenance": [],
      "authorship_tag": "ABX9TyOI5Kq3cECLsVq7tciCpI0O",
      "include_colab_link": true
    },
    "kernelspec": {
      "name": "python3",
      "display_name": "Python 3"
    },
    "language_info": {
      "name": "python"
    }
  },
  "cells": [
    {
      "cell_type": "markdown",
      "metadata": {
        "id": "view-in-github",
        "colab_type": "text"
      },
      "source": [
        "<a href=\"https://colab.research.google.com/github/zion6570/NLP_2023/blob/main/%EC%8B%A4%EC%88%98%ED%98%95%20%EC%9E%90%EB%A3%8C%20%EC%9D%B4%ED%95%B4%ED%95%98%EA%B8%B0%20231005.ipynb\" target=\"_parent\"><img src=\"https://colab.research.google.com/assets/colab-badge.svg\" alt=\"Open In Colab\"/></a>"
      ]
    },
    {
      "cell_type": "code",
      "execution_count": 1,
      "metadata": {
        "colab": {
          "base_uri": "https://localhost:8080/"
        },
        "id": "pu8CWgQcHsWZ",
        "outputId": "4c67283c-eac7-41c5-86ea-c5c03c0be5da"
      },
      "outputs": [
        {
          "output_type": "stream",
          "name": "stdout",
          "text": [
            "10\n",
            "2\n",
            "8\n",
            "16\n",
            "1234567890123456789\n"
          ]
        }
      ],
      "source": [
        "int_data = 10\n",
        "bin_data = 0b10\n",
        "oct_data = 0o10\n",
        "hex_data = 0x10\n",
        "long_data = 1234567890123456789\n",
        "print(int_data)\n",
        "print(bin_data)\n",
        "print(oct_data)\n",
        "print(hex_data)\n",
        "print(long_data)"
      ]
    },
    {
      "cell_type": "code",
      "source": [
        "f1 = 1.0\n",
        "f2 = 3.14\n",
        "f3 = 1.56e3\n",
        "f4 = -0.7e-4\n",
        "print(f1)\n",
        "print(f2)\n",
        "print(f3)\n",
        "print(f4)"
      ],
      "metadata": {
        "colab": {
          "base_uri": "https://localhost:8080/"
        },
        "id": "99DpGSHYIc1B",
        "outputId": "114fd58d-ae84-451a-c934-5c24c3d2f781"
      },
      "execution_count": 2,
      "outputs": [
        {
          "output_type": "stream",
          "name": "stdout",
          "text": [
            "1.0\n",
            "3.14\n",
            "1560.0\n",
            "-7e-05\n"
          ]
        }
      ]
    }
  ]
}