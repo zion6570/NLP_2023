{
  "nbformat": 4,
  "nbformat_minor": 0,
  "metadata": {
    "colab": {
      "provenance": [],
      "authorship_tag": "ABX9TyOjQBss6X9+mp0PzjVoPheJ",
      "include_colab_link": true
    },
    "kernelspec": {
      "name": "python3",
      "display_name": "Python 3"
    },
    "language_info": {
      "name": "python"
    }
  },
  "cells": [
    {
      "cell_type": "markdown",
      "metadata": {
        "id": "view-in-github",
        "colab_type": "text"
      },
      "source": [
        "<a href=\"https://colab.research.google.com/github/zion6570/NLP_2023/blob/main/%EC%8B%9C%ED%80%80%EC%8A%A4%20%EC%9E%90%EB%A3%8C%20%EC%97%B0%EA%B2%B0%20%EC%9D%B4%ED%95%B4%ED%95%98%EA%B8%B0%20231026.ipynb\" target=\"_parent\"><img src=\"https://colab.research.google.com/assets/colab-badge.svg\" alt=\"Open In Colab\"/></a>"
      ]
    },
    {
      "cell_type": "code",
      "execution_count": 1,
      "metadata": {
        "colab": {
          "base_uri": "https://localhost:8080/"
        },
        "id": "M2YzPH_VeY-B",
        "outputId": "d1df96ce-3b82-4b49-e228-07415fe10dd3"
      },
      "outputs": [
        {
          "output_type": "stream",
          "name": "stdout",
          "text": [
            "I love Python\n",
            "I love you\n",
            "[1, 2, 3, 4, 5, 6]\n"
          ]
        }
      ],
      "source": [
        "strdata1 = 'I love '; strdata2 = 'Python'; strdata3 = 'you'\n",
        "listdata1 = [1,2,3]; listdata2 = [4,5,6]\n",
        "print(strdata1 + strdata2)\n",
        "print(strdata1 + strdata3)\n",
        "print(listdata1 + listdata2)"
      ]
    }
  ]
}