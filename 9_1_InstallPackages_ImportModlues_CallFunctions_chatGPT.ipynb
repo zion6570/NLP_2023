{
  "nbformat": 4,
  "nbformat_minor": 0,
  "metadata": {
    "colab": {
      "provenance": [],
      "include_colab_link": true
    },
    "kernelspec": {
      "name": "python3",
      "display_name": "Python 3"
    },
    "language_info": {
      "name": "python"
    }
  },
  "cells": [
    {
      "cell_type": "markdown",
      "metadata": {
        "id": "view-in-github",
        "colab_type": "text"
      },
      "source": [
        "<a href=\"https://colab.research.google.com/github/zion6570/NLP_2023/blob/main/9_1_InstallPackages_ImportModlues_CallFunctions_chatGPT.ipynb\" target=\"_parent\"><img src=\"https://colab.research.google.com/assets/colab-badge.svg\" alt=\"Open In Colab\"/></a>"
      ]
    },
    {
      "cell_type": "markdown",
      "source": [
        "# 🎁 Python Library\n",
        "  - Python modues 을 계층적인 디렉토리 형태로 구성\n",
        "  - **!pip**: Package manager\n",
        "  - **!pip install <font color = 'red'> NameLibrary**\n",
        "> A <font color = 'red'> **Python library**</font> refers to a collection of modules or functions that provide specific functionality, often focused on a particular domain or purpose. Libraries can be used to extend the capabilities of Python by providing pre-written code that can be imported and used in your own programs. Examples of popular Python libraries include NumPy for numerical computing, pandas for data manipulation and analysis, and requests for making HTTP requests. On the other hand, a <font color = 'blue'> **Python package**</font> is a way of organizing related modules into a directory hierarchy. A package is essentially a directory that contains one or more Python module files, along with an optional __init__.py file that signifies it as a package. Packages help to organize and structure large codebases by grouping related functionality together. They can also contain sub-packages, creating a nested structure.\n",
        "\n",
        "# 🎒🎒 Python Moduess\n",
        "  - Python functions 로 구성\n",
        "  - **from 페키지이름 import 모듈이름**\n",
        "  - **import** **페키지.모듈이름 <font color='green'>[외부 페키지 경우]**</font>\n",
        "  - **import 모듈이름 <font color='purple'>[Python 내장 페키지 경우]**</font>\n",
        "  - **import 모듈이름 as Abbreviation**\n",
        "\n",
        "\n",
        "# 🏀 ⚽ ⚾ 🎾 Python functions\n",
        "  - 외부 모듈에 있는 함수\n",
        "  - import 모듈이름.함수이름()\n",
        "  - from 모듈이름 import 함수이름\n",
        "\n",
        "### For you information, check out **Python Module Index**\n",
        "* [Visit Colab documentation]((https://docs.python.org/3/py-modindex.html)\n",
        "\n"
      ],
      "metadata": {
        "id": "aCsaIGXK73ms"
      }
    },
    {
      "cell_type": "markdown",
      "source": [
        "##<font color = 'purple'> **👀 Install Python Libraries** ⤵️"
      ],
      "metadata": {
        "id": "nR3MiBaAM--d"
      }
    },
    {
      "cell_type": "code",
      "source": [
        "#@markdown 🐹 👀 🐾 The **Pandas** is a popular open-source library for data manipulation and analysis. It offers data structures like **Series and DataFrame for handling structured data**. With powerful functionalities, it enables tasks such as <font color = 'red'>**indexing, filtering, grouping, and merging data**</font>. Pandas supports various file formats and integrates well with other libraries like NumPy and Matplotlib. It provides an intuitive and efficient way to work with large datasets in Python.\n",
        "\n",
        "!pip install pandas"
      ],
      "metadata": {
        "id": "9olyrXb-H-mq",
        "cellView": "form"
      },
      "execution_count": null,
      "outputs": []
    },
    {
      "cell_type": "code",
      "source": [
        "#@markdown 🐹 👀 🐾 The **scikit-learn**, often referred to as sklearn, is a widely used **machine learning library**. It provides a comprehensive collection of tools and algorithms for various machine learning tasks such as <font color = 'red'>**classification, regression, clustering, and dimensionality reduction**</font>. With a consistent and user-friendly API, scikit-learn simplifies the process of building machine learning models. It supports data preprocessing, feature selection, model evaluation, and model tuning. The library also offers helpful utilities for handling datasets and implementing machine learning workflows. Overall, scikit-learn is a valuable resource for both beginners and experienced practitioners in the field of machine learning.\n",
        "\n",
        "!pip install scikit-learn #corpus-toolkit 패키지에 하이픈 있음"
      ],
      "metadata": {
        "id": "sD-yK0LIICxj",
        "cellView": "form"
      },
      "execution_count": null,
      "outputs": []
    },
    {
      "cell_type": "code",
      "source": [
        "#@markdown 🐹 👀 🐾 The **Matplotlib** is a popular plotting library for Python. It provides a flexible and comprehensive set of tools for creating various types of plots and visualizations. With a simple and intuitive interface, Matplotlib allows customization of plot appearance, axes, labels, and styles. It supports <font color = 'red'>**line plots, scatter plots, bar charts, histograms**</font>, and more. Matplotlib *integrates well with NumPy and Pandas for data manipulation and analysis*. It is widely used for data exploration, presentation, and publication-quality visualizations in scientific computing and data analysis.\n",
        "\n",
        "!pip install matplot"
      ],
      "metadata": {
        "id": "Yo1rFBHOIOrA",
        "cellView": "form"
      },
      "execution_count": null,
      "outputs": []
    },
    {
      "cell_type": "code",
      "source": [
        "#@markdown 🐹 👀 🐾 The **NLTK** (Natural Language Toolkit) is a powerful library for natural language processing (NLP) tasks. It provides tools and resources for tasks like <font color = 'red'>**tokenization, stemming, tagging, parsing, and sentiment analysis**</font>. NLTK offers a wide range of corpora and lexical resources for linguistic analysis. It supports **text classification, text generation, and language modeling**. NLTK includes pre-trained models and algorithms for various NLP tasks, making it suitable for both beginners and advanced users in the field of NLP. Overall, NLTK is a valuable resource for working with *human language data and performing NLP tasks in Python*.\n",
        "\n",
        "!pip install nltk"
      ],
      "metadata": {
        "cellView": "form",
        "id": "LKUrjZgzza9Q"
      },
      "execution_count": null,
      "outputs": []
    },
    {
      "cell_type": "code",
      "source": [
        "#@markdown 🐹 👀 🐾 **Corpus-toolkit** package grew out of courses in corpus linguistics and learner corpus research. The toolkit attempts to balance simplicity of use, broad application, and scalability. Common corpus analyses such as <font color = 'red'>**the calculation of word and n-gram frequency and range, keyness, and collocation**</font> are included. In addition, more advanced analyses such as the **identification of dependency bigrams (e.g., verb-direct object combinations) and their frequency, range, and strength of association** are also included.\n",
        "\n",
        "!pip install corpus-toolkit #corpus-toolkit 패키지에 하이픈 있음"
      ],
      "metadata": {
        "id": "aFjO_wBAH5Ql",
        "cellView": "form"
      },
      "execution_count": null,
      "outputs": []
    },
    {
      "cell_type": "markdown",
      "source": [
        "## **<font color = 'brown'> Student's activity** ⤵️\n",
        "\n",
        "### Exercise for <font color = 'red'> installing nltk package, importing its module, and calling its functions\n",
        "\n",
        "**NLTK: Python library**\n",
        "* You are correct! When using **Google Colab**, certain libraries, including **NLTK**, are **pre-installed and available for immediate use** without the need for additional installation. This is because Colab provides a pre-configured environment with several popular libraries and modules already installed, allowing you to import and use them directly in your code. So, in the case of using Colab, you can indeed use the NLTK module without explicitly installing the NLTK library.\n",
        ">\n",
        "* NLTK의 기능을 제대로 사용하기 위해서는 NLTK Data라는 여러 데이터를 추가적으로 설치해야 한다.\n",
        ">\n",
        "* 이를 위해서 파이썬 코드 내에서 import nltk 이후에 nltk.download()라는 코드를 수행하여 설치한다.\n",
        ">\n",
        "* **Reference**\n",
        "  * [wikidocs](https://wikidocs.net/22488)\n"
      ],
      "metadata": {
        "id": "SL1F8WCDKvoN"
      }
    },
    {
      "cell_type": "code",
      "execution_count": null,
      "metadata": {
        "id": "5TPWVgk272SH"
      },
      "outputs": [],
      "source": [
        "!pip install nltk #This step can be skipped since it is pre-installed on Google Colab."
      ]
    },
    {
      "cell_type": "code",
      "source": [
        "import nltk\n",
        "from nltk.tokenize import word_tokenize, sent_tokenize\n",
        "nltk.download(\"punkt\")"
      ],
      "metadata": {
        "id": "7dBxHVDoIub9"
      },
      "execution_count": null,
      "outputs": []
    },
    {
      "cell_type": "markdown",
      "source": [
        "## **<font color = 'brown'> Student's activity** ⤵️\n",
        "\n",
        "### Exercise for <font color = 'red'> *importing os module and calling its functions*\n",
        "\n",
        "   -The **os module is a built-in module in Python**, meaning it is available by default in any Python installation. You don't need to install it separately or use any package manager. The os module provides functions for interacting with the operating system, such as accessing files and directories, managing processes, and other system-related tasks. You can import and use the os module in your Python programs without any additional installation steps."
      ],
      "metadata": {
        "id": "hioxpHpfQLjP"
      }
    },
    {
      "cell_type": "code",
      "source": [
        "import os                 #Python built-in os module 불러 들이기\n",
        "os.mkdir (\"txtfolder\")    #os 모듈과 mkdir 함수 사이에 period 있음. Check \"txtfolder\" under Files of Colab."
      ],
      "metadata": {
        "id": "8PxL2p05WDin"
      },
      "execution_count": null,
      "outputs": []
    },
    {
      "cell_type": "code",
      "source": [
        "!pip install nltk\n",
        "text = \"Python programming is a high-level, interpreted programming language known for its simplicity and readability. It emphasizes code readability with its clean syntax, making it easier to write and understand. Python supports multiple programming paradigms, including procedural, object-oriented, and functional programming. It has a vast standard library and a thriving ecosystem of third-party libraries and frameworks, making it suitable for various domains such as web development, data analysis, machine learning, and automation. Python's versatility, ease of use, and extensive community support have contributed to its popularity among developers of all skill levels.\"\n",
        "from nltk.tokenize import sent_tokenize\n",
        "sentence = sent_tokenize(text)\n",
        "print('문장 토큰화: %s' %sentence)\n"
      ],
      "metadata": {
        "id": "b0VovEVr2dFo"
      },
      "execution_count": null,
      "outputs": []
    },
    {
      "cell_type": "code",
      "source": [
        "#@markdown 🐹 👀 🐾 **Lexical-diversity** library is a Python package that provides tools and functions for analyzing the lexical diversity of text.  i) <font color = 'red'>**Type-Token Ratio (TTR)**</font> measures the proportion of unique words (types) in a text compared to the total number of words (tokens). It provides insights into vocabulary richness. ii)  <font color = 'red'>**Moving Standardized Type-Token Ratio (MSTTR)**</font> is a dynamic measure of lexical diversity that takes into account a moving window of text, allowing you to assess diversity over smaller sections of text. iii)  <font color = 'red'>**Moving Average Type-Token Ration (MATTR)**</font> calculates the Type-Token Ratio (TTR) within a sliding window as it moves through the text, and then computes the average of these TTR values over the entire text. The formula for MATTR: MATTR = (1 / N) * ∑(TTR_i).\n",
        "\n",
        "#@markdown 🐹 👀 🐾 Total number of words / Total number of type\n",
        "\n",
        "!pip install lexical-diversity"
      ],
      "metadata": {
        "cellView": "form",
        "id": "VBD9lDWz0Eoj"
      },
      "execution_count": null,
      "outputs": []
    },
    {
      "cell_type": "markdown",
      "source": [
        "### ⛔ **Shall we write a scrip?**"
      ],
      "metadata": {
        "id": "Q76RwDl81-0U"
      }
    },
    {
      "cell_type": "markdown",
      "source": [
        "##**[Sign up chat GPT](https://chat.openai.com)**\n",
        "\n",
        "After you have created a chat GPT account, visit **[minjung's github page](https://raw.githubusercontent.com/ms624atyale/Temp_Data/main/TheAesop4Children_1stEpisode.txt)** and copy the content of the _TheAesop4Children_1stEpisode.txt_ file.\n",
        "\n",
        "1. Ask chatGPT to write a python script for lexical diversity, TTR, using the following text, \"COPY & PASTE YOUR TEXT.\"\n",
        "\n",
        "\n",
        "2. Ask again chatGPT to include tokens and types (i.e., unique words) used to calculate lexical diversity.\n",
        "\n",
        "3. Ask again to include converting tokens to lowercase.\n",
        "\n",
        "4. Ask again, does higher value of TTR indicate either greater or lower variability of lexical use?"
      ],
      "metadata": {
        "id": "5ugkxTU69GS9"
      }
    },
    {
      "cell_type": "code",
      "source": [
        "def calculate_lexical_diversity(text):\n",
        "    words = text.split()\n",
        "    unique_words = set(words)\n",
        "    return len(unique_words) / len(words)\n",
        "\n",
        "def calculate_ttr(text):\n",
        "    words = text.split()\n",
        "    unique_words = set(words)\n",
        "    return len(unique_words) / len(words)\n",
        "\n",
        "if __name__ == \"__main__\":\n",
        "    text = \"\"\"\n",
        "    There was once a little Kid whose growing horns made him think he was a grown-up Billy Goat and able to take care of himself.\n",
        "    So one evening when the flock started home from the pasture and his mother called, the Kid paid no heed and kept right on nibbling the tender grass.\n",
        "    A little later when he lifted his head, the flock was gone. He was all alone. The sun was sinking. Long shadows came creeping over the ground.\n",
        "    A chilly little wind came creeping with them making scary noises in the grass. The Kid shivered as he thought of the terrible Wolf.\n",
        "    Then he started wildly over the field, bleating for his mother. But not half-way, near a clump of trees, there was the Wolf!\n",
        "    The Kid knew there was little hope for him. “Please, Mr. Wolf,” he said trembling, “I know you are going to eat me.\n",
        "    But first please pipe me a tune, for I want to dance and be merry as long as I can.“The Wolf liked the idea of a little music before eating,\n",
        "    so he struck up a merry tune and the Kid leaped and frisked gaily. Meanwhile, the flock was moving slowly homeward.\n",
        "    In the still evening air the Wolf's piping carried far. The Shepherd Dogs pricked up their ears. They recognized the song the Wolf sings before a feast,\n",
        "    and in a moment they were racing back to the pasture. The Wolf's song ended suddenly, and as he ran, with the Dogs at his heels,\n",
        "    he called himself a fool for turning piper to please a Kid, when he should have stuck to his butcher's trade.\n",
        "    Do not let anything turn you from your purpose.\n",
        "    \"\"\"\n",
        "\n",
        "    lexical_diversity = calculate_lexical_diversity(text)\n",
        "    ttr = calculate_ttr(text)\n",
        "\n",
        "    print(f\"Lexical Diversity: {lexical_diversity:.2%}\")\n",
        "    print(f\"Type-Token Ratio (TTR): {ttr:.2%}\")"
      ],
      "metadata": {
        "id": "4VMfZ8GUoWkb",
        "outputId": "0c2c7c46-3258-4169-e2c3-c1f40f68f3d9",
        "colab": {
          "base_uri": "https://localhost:8080/"
        }
      },
      "execution_count": 3,
      "outputs": [
        {
          "output_type": "stream",
          "name": "stdout",
          "text": [
            "Lexical Diversity: 62.68%\n",
            "Type-Token Ratio (TTR): 62.68%\n"
          ]
        }
      ]
    },
    {
      "cell_type": "code",
      "source": [
        "from nltk import FreqDist\n",
        "from nltk.tokenize import word_tokenize\n",
        "import nltk\n",
        "\n",
        "nltk.download('punkt')\n",
        "\n",
        "def calculate_lexical_diversity(text):\n",
        "    words = word_tokenize(text.lower())  # Tokenize and convert to lowercase\n",
        "    total_words = len(words)\n",
        "    unique_words = len(set(words))\n",
        "    return unique_words / total_words\n",
        "\n",
        "def calculate_ttr(text):\n",
        "    words = word_tokenize(text.lower())  # Tokenize and convert to lowercase\n",
        "    total_words = len(words)\n",
        "    unique_words = len(set(words))\n",
        "    return unique_words / total_words\n",
        "\n",
        "if __name__ == \"__main__\":\n",
        "    text = \"\"\"\n",
        "    There was once a little Kid whose growing horns made him think he was a grown-up Billy Goat and able to take care of himself.\n",
        "    So one evening when the flock started home from the pasture and his mother called, the Kid paid no heed and kept right on nibbling the tender grass.\n",
        "    A little later when he lifted his head, the flock was gone. He was all alone. The sun was sinking. Long shadows came creeping over the ground.\n",
        "    A chilly little wind came creeping with them making scary noises in the grass. The Kid shivered as he thought of the terrible Wolf.\n",
        "    Then he started wildly over the field, bleating for his mother. But not half-way, near a clump of trees, there was the Wolf!\n",
        "    The Kid knew there was little hope for him. “Please, Mr. Wolf,” he said trembling, “I know you are going to eat me.\n",
        "    But first please pipe me a tune, for I want to dance and be merry as long as I can.“The Wolf liked the idea of a little music before eating,\n",
        "    so he struck up a merry tune and the Kid leaped and frisked gaily. Meanwhile, the flock was moving slowly homeward.\n",
        "    In the still evening air the Wolf's piping carried far. The Shepherd Dogs pricked up their ears. They recognized the song the Wolf sings before a feast,\n",
        "    and in a moment they were racing back to the pasture. The Wolf's song ended suddenly, and as he ran, with the Dogs at his heels,\n",
        "    he called himself a fool for turning piper to please a Kid, when he should have stuck to his butcher's trade.\n",
        "    Do not let anything turn you from your purpose.\n",
        "    \"\"\"\n",
        "\n",
        "    lexical_diversity = calculate_lexical_diversity(text)\n",
        "    ttr = calculate_ttr(text)\n",
        "\n",
        "    print(f\"Lexical Diversity: {lexical_diversity:.2%}\")\n",
        "    print(f\"Type-Token Ratio (TTR): {ttr:.2%}\")"
      ],
      "metadata": {
        "id": "n6CB8ZTkneXq",
        "outputId": "5904a502-b3f1-4938-ec3c-e65d666e6c5e",
        "colab": {
          "base_uri": "https://localhost:8080/"
        }
      },
      "execution_count": 2,
      "outputs": [
        {
          "output_type": "stream",
          "name": "stdout",
          "text": [
            "Lexical Diversity: 49.54%\n",
            "Type-Token Ratio (TTR): 49.54%\n"
          ]
        },
        {
          "output_type": "stream",
          "name": "stderr",
          "text": [
            "[nltk_data] Downloading package punkt to /root/nltk_data...\n",
            "[nltk_data]   Package punkt is already up-to-date!\n"
          ]
        }
      ]
    },
    {
      "cell_type": "markdown",
      "source": [
        "### 1. Ask chatGPT to write a python script for lexical diversity, TTR, using the following text, \"COPY & PASTE YOUR TEXT.\""
      ],
      "metadata": {
        "id": "4hnHrakwLUab"
      }
    },
    {
      "cell_type": "code",
      "source": [
        "# Define the text\n",
        "text = \"\"\"There was once a little Kid whose growing horns made him think he was a grown-up Billy Goat and able to take care of himself. So one evening when the flock started home from the pasture and his mother called, the Kid paid no heed and kept right on nibbling the tender grass. A little later when he lifted his head, the flock was gone. He was all alone. The sun was sinking. Long shadows came creeping over the ground. A chilly little wind came creeping with them making scary noises in the grass. The Kid shivered as he thought of the terrible Wolf. Then he started wildly over the field, bleating for his mother. But not half-way, near a clump of trees, there was the Wolf! The Kid knew there was little hope for him. “Please, Mr. Wolf,” he said trembling, “I know you are going to eat me. But first please pipe me a tune, for I want to dance and be merry as long as I can.“The Wolf liked the idea of a little music before eating, so he struck up a merry tune and the Kid leaped and frisked gaily. Meanwhile, the flock was moving slowly homeward. In the still evening air the Wolf's piping carried far. The Shepherd Dogs pricked up their ears. They recognized the song the Wolf sings before a feast, and in a moment they were racing back to the pasture. The Wolf's song ended suddenly, and as he ran, with the Dogs at his heels, he called himself a fool for turning piper to please a Kid, when he should have stuck to his butcher's trade. Do not let anything turn you from your purpose.\"\"\"\n",
        "\n",
        "# Tokenize the text into words (split by whitespace and punctuation)\n",
        "words = text.split()\n",
        "\n",
        "# Calculate TTR (Type-Token Ratio)\n",
        "unique_words = set(words)\n",
        "ttr = len(unique_words) / len(words)\n",
        "\n",
        "# Print the TTR\n",
        "print(\"Type-Token Ratio (TTR):\", ttr)"
      ],
      "metadata": {
        "id": "iPPOr3lc9lVM",
        "outputId": "4c6cde56-a8b1-47ad-ec8e-fe0b76853e7c",
        "colab": {
          "base_uri": "https://localhost:8080/"
        }
      },
      "execution_count": 4,
      "outputs": [
        {
          "output_type": "stream",
          "name": "stdout",
          "text": [
            "Type-Token Ratio (TTR): 0.6267605633802817\n"
          ]
        }
      ]
    },
    {
      "cell_type": "markdown",
      "source": [
        "## 2. Ask again chatGPT to include the tokens, and types (i.e., unique words) used to calculate lexical diversity."
      ],
      "metadata": {
        "id": "9gcC9G-APzEl"
      }
    },
    {
      "cell_type": "code",
      "source": [
        "# Define the text\n",
        "text = \"\"\"There was once a little Kid whose growing horns made him think he was a grown-up Billy Goat and able to take care of himself. So one evening when the flock started home from the pasture and his mother called, the Kid paid no heed and kept right on nibbling the tender grass. A little later when he lifted his head, the flock was gone. He was all alone. The sun was sinking. Long shadows came creeping over the ground. A chilly little wind came creeping with them making scary noises in the grass. The Kid shivered as he thought of the terrible Wolf. Then he started wildly over the field, bleating for his mother. But not half-way, near a clump of trees, there was the Wolf! The Kid knew there was little hope for him. “Please, Mr. Wolf,” he said trembling, “I know you are going to eat me. But first please pipe me a tune, for I want to dance and be merry as long as I can.“The Wolf liked the idea of a little music before eating, so he struck up a merry tune and the Kid leaped and frisked gaily. Meanwhile, the flock was moving slowly homeward. In the still evening air the Wolf's piping carried far. The Shepherd Dogs pricked up their ears. They recognized the song the Wolf sings before a feast, and in a moment they were racing back to the pasture. The Wolf's song ended suddenly, and as he ran, with the Dogs at his heels, he called himself a fool for turning piper to please a Kid, when he should have stuck to his butcher's trade. Do not let anything turn you from your purpose.\"\"\"\n",
        "\n",
        "# Tokenize the text into words (split by whitespace and punctuation)\n",
        "words = text.split()\n",
        "\n",
        "# Calculate TTR (Type-Token Ratio)\n",
        "unique_words = set(words)\n",
        "ttr = len(unique_words) / len(words)\n",
        "\n",
        "# Print the TTR, list of tokens, and list of unique words (types)\n",
        "print(\"Type-Token Ratio (TTR):\", ttr)\n",
        "print(\"Tokens:\", words)\n",
        "print(\"Unique words (Types):\", sorted(unique_words))"
      ],
      "metadata": {
        "id": "hH-xklk3_RRs",
        "outputId": "55c836bd-643a-4491-d109-e671d4a940f7",
        "colab": {
          "base_uri": "https://localhost:8080/"
        }
      },
      "execution_count": 5,
      "outputs": [
        {
          "output_type": "stream",
          "name": "stdout",
          "text": [
            "Type-Token Ratio (TTR): 0.6267605633802817\n",
            "Tokens: ['There', 'was', 'once', 'a', 'little', 'Kid', 'whose', 'growing', 'horns', 'made', 'him', 'think', 'he', 'was', 'a', 'grown-up', 'Billy', 'Goat', 'and', 'able', 'to', 'take', 'care', 'of', 'himself.', 'So', 'one', 'evening', 'when', 'the', 'flock', 'started', 'home', 'from', 'the', 'pasture', 'and', 'his', 'mother', 'called,', 'the', 'Kid', 'paid', 'no', 'heed', 'and', 'kept', 'right', 'on', 'nibbling', 'the', 'tender', 'grass.', 'A', 'little', 'later', 'when', 'he', 'lifted', 'his', 'head,', 'the', 'flock', 'was', 'gone.', 'He', 'was', 'all', 'alone.', 'The', 'sun', 'was', 'sinking.', 'Long', 'shadows', 'came', 'creeping', 'over', 'the', 'ground.', 'A', 'chilly', 'little', 'wind', 'came', 'creeping', 'with', 'them', 'making', 'scary', 'noises', 'in', 'the', 'grass.', 'The', 'Kid', 'shivered', 'as', 'he', 'thought', 'of', 'the', 'terrible', 'Wolf.', 'Then', 'he', 'started', 'wildly', 'over', 'the', 'field,', 'bleating', 'for', 'his', 'mother.', 'But', 'not', 'half-way,', 'near', 'a', 'clump', 'of', 'trees,', 'there', 'was', 'the', 'Wolf!', 'The', 'Kid', 'knew', 'there', 'was', 'little', 'hope', 'for', 'him.', '“Please,', 'Mr.', 'Wolf,”', 'he', 'said', 'trembling,', '“I', 'know', 'you', 'are', 'going', 'to', 'eat', 'me.', 'But', 'first', 'please', 'pipe', 'me', 'a', 'tune,', 'for', 'I', 'want', 'to', 'dance', 'and', 'be', 'merry', 'as', 'long', 'as', 'I', 'can.“The', 'Wolf', 'liked', 'the', 'idea', 'of', 'a', 'little', 'music', 'before', 'eating,', 'so', 'he', 'struck', 'up', 'a', 'merry', 'tune', 'and', 'the', 'Kid', 'leaped', 'and', 'frisked', 'gaily.', 'Meanwhile,', 'the', 'flock', 'was', 'moving', 'slowly', 'homeward.', 'In', 'the', 'still', 'evening', 'air', 'the', \"Wolf's\", 'piping', 'carried', 'far.', 'The', 'Shepherd', 'Dogs', 'pricked', 'up', 'their', 'ears.', 'They', 'recognized', 'the', 'song', 'the', 'Wolf', 'sings', 'before', 'a', 'feast,', 'and', 'in', 'a', 'moment', 'they', 'were', 'racing', 'back', 'to', 'the', 'pasture.', 'The', \"Wolf's\", 'song', 'ended', 'suddenly,', 'and', 'as', 'he', 'ran,', 'with', 'the', 'Dogs', 'at', 'his', 'heels,', 'he', 'called', 'himself', 'a', 'fool', 'for', 'turning', 'piper', 'to', 'please', 'a', 'Kid,', 'when', 'he', 'should', 'have', 'stuck', 'to', 'his', \"butcher's\", 'trade.', 'Do', 'not', 'let', 'anything', 'turn', 'you', 'from', 'your', 'purpose.']\n",
            "Unique words (Types): ['A', 'Billy', 'But', 'Do', 'Dogs', 'Goat', 'He', 'I', 'In', 'Kid', 'Kid,', 'Long', 'Meanwhile,', 'Mr.', 'Shepherd', 'So', 'The', 'Then', 'There', 'They', 'Wolf', 'Wolf!', \"Wolf's\", 'Wolf,”', 'Wolf.', 'a', 'able', 'air', 'all', 'alone.', 'and', 'anything', 'are', 'as', 'at', 'back', 'be', 'before', 'bleating', \"butcher's\", 'called', 'called,', 'came', 'can.“The', 'care', 'carried', 'chilly', 'clump', 'creeping', 'dance', 'ears.', 'eat', 'eating,', 'ended', 'evening', 'far.', 'feast,', 'field,', 'first', 'flock', 'fool', 'for', 'frisked', 'from', 'gaily.', 'going', 'gone.', 'grass.', 'ground.', 'growing', 'grown-up', 'half-way,', 'have', 'he', 'head,', 'heed', 'heels,', 'him', 'him.', 'himself', 'himself.', 'his', 'home', 'homeward.', 'hope', 'horns', 'idea', 'in', 'kept', 'knew', 'know', 'later', 'leaped', 'let', 'lifted', 'liked', 'little', 'long', 'made', 'making', 'me', 'me.', 'merry', 'moment', 'mother', 'mother.', 'moving', 'music', 'near', 'nibbling', 'no', 'noises', 'not', 'of', 'on', 'once', 'one', 'over', 'paid', 'pasture', 'pasture.', 'pipe', 'piper', 'piping', 'please', 'pricked', 'purpose.', 'racing', 'ran,', 'recognized', 'right', 'said', 'scary', 'shadows', 'shivered', 'should', 'sings', 'sinking.', 'slowly', 'so', 'song', 'started', 'still', 'struck', 'stuck', 'suddenly,', 'sun', 'take', 'tender', 'terrible', 'the', 'their', 'them', 'there', 'they', 'think', 'thought', 'to', 'trade.', 'trees,', 'trembling,', 'tune', 'tune,', 'turn', 'turning', 'up', 'want', 'was', 'were', 'when', 'whose', 'wildly', 'wind', 'with', 'you', 'your', '“I', '“Please,']\n"
          ]
        }
      ]
    },
    {
      "cell_type": "markdown",
      "source": [
        "# 3. Ask again to include converting tokens to lowercase."
      ],
      "metadata": {
        "id": "Lc5gV9DWP4Qj"
      }
    },
    {
      "cell_type": "code",
      "source": [
        "# Define a function to tokenize and convert to lowercase\n",
        "def tokenize_and_lower(text):\n",
        "    # Tokenize the text into words (split by whitespace and punctuation)\n",
        "    words = text.split()\n",
        "    # Convert words to lowercase\n",
        "    words_lower = [word.lower() for word in words] #This list comprehension is used to convert each word in the list to lowercase and create a new list containing these lowercase words.\n",
        "    return words_lower\n",
        "\n",
        "# Define the text\n",
        "text = \"\"\"There was once a little Kid whose growing horns made him think he was a grown-up Billy Goat and able to take care of himself. So one evening when the flock started home from the pasture and his mother called, the Kid paid no heed and kept right on nibbling the tender grass. A little later when he lifted his head, the flock was gone. He was all alone. The sun was sinking. Long shadows came creeping over the ground. A chilly little wind came creeping with them making scary noises in the grass. The Kid shivered as he thought of the terrible Wolf. Then he started wildly over the field, bleating for his mother. But not half-way, near a clump of trees, there was the Wolf! The Kid knew there was little hope for him. “Please, Mr. Wolf,” he said trembling, “I know you are going to eat me. But first please pipe me a tune, for I want to dance and be merry as long as I can.“ The Wolf liked the idea of a little music before eating, so he struck up a merry tune and the Kid leaped and frisked gaily. Meanwhile, the flock was moving slowly homeward. In the still evening air the Wolf's piping carried far. The Shepherd Dogs pricked up their ears. They recognized the song the Wolf sings before a feast, and in a moment they were racing back to the pasture. The Wolf's song ended suddenly, and as he ran, with the Dogs at his heels, he called himself a fool for turning piper to please a Kid, when he should have stuck to his butcher's trade. Do not let anything turn you from your purpose.\"\"\"\n",
        "\n",
        "count = len(text)\n",
        "print(count)\n",
        "\n",
        "# Get the tokens in lowercase\n",
        "tokens_lower = tokenize_and_lower(text)\n",
        "\n",
        "# Calculate TTR (Type-Token Ratio)\n",
        "unique_words = set(tokens_lower) #set is a built-in data type and also the name of the constructor function used to create sets. The set() function is used to create a new empty set or to convert an iterable (like a list or tuple) into a set.\n",
        "ttr = len(unique_words) / len(tokens_lower)\n",
        "\n",
        "# Print the TTR, list of tokens, and list of unique words (types)\n",
        "print(\"Type-Token Ratio (TTR):\", ttr)\n",
        "print(\"Tokens in Lowercase:\", tokens_lower)\n",
        "print(\"Unique words (Types):\", sorted(unique_words))"
      ],
      "metadata": {
        "id": "k88w62oEJx2w",
        "outputId": "a7e240c4-5949-4d33-9bd5-b0933d3a09e4",
        "colab": {
          "base_uri": "https://localhost:8080/"
        }
      },
      "execution_count": 7,
      "outputs": [
        {
          "output_type": "stream",
          "name": "stdout",
          "text": [
            "1488\n",
            "Type-Token Ratio (TTR): 0.5964912280701754\n",
            "Tokens in Lowercase: ['there', 'was', 'once', 'a', 'little', 'kid', 'whose', 'growing', 'horns', 'made', 'him', 'think', 'he', 'was', 'a', 'grown-up', 'billy', 'goat', 'and', 'able', 'to', 'take', 'care', 'of', 'himself.', 'so', 'one', 'evening', 'when', 'the', 'flock', 'started', 'home', 'from', 'the', 'pasture', 'and', 'his', 'mother', 'called,', 'the', 'kid', 'paid', 'no', 'heed', 'and', 'kept', 'right', 'on', 'nibbling', 'the', 'tender', 'grass.', 'a', 'little', 'later', 'when', 'he', 'lifted', 'his', 'head,', 'the', 'flock', 'was', 'gone.', 'he', 'was', 'all', 'alone.', 'the', 'sun', 'was', 'sinking.', 'long', 'shadows', 'came', 'creeping', 'over', 'the', 'ground.', 'a', 'chilly', 'little', 'wind', 'came', 'creeping', 'with', 'them', 'making', 'scary', 'noises', 'in', 'the', 'grass.', 'the', 'kid', 'shivered', 'as', 'he', 'thought', 'of', 'the', 'terrible', 'wolf.', 'then', 'he', 'started', 'wildly', 'over', 'the', 'field,', 'bleating', 'for', 'his', 'mother.', 'but', 'not', 'half-way,', 'near', 'a', 'clump', 'of', 'trees,', 'there', 'was', 'the', 'wolf!', 'the', 'kid', 'knew', 'there', 'was', 'little', 'hope', 'for', 'him.', '“please,', 'mr.', 'wolf,”', 'he', 'said', 'trembling,', '“i', 'know', 'you', 'are', 'going', 'to', 'eat', 'me.', 'but', 'first', 'please', 'pipe', 'me', 'a', 'tune,', 'for', 'i', 'want', 'to', 'dance', 'and', 'be', 'merry', 'as', 'long', 'as', 'i', 'can.“', 'the', 'wolf', 'liked', 'the', 'idea', 'of', 'a', 'little', 'music', 'before', 'eating,', 'so', 'he', 'struck', 'up', 'a', 'merry', 'tune', 'and', 'the', 'kid', 'leaped', 'and', 'frisked', 'gaily.', 'meanwhile,', 'the', 'flock', 'was', 'moving', 'slowly', 'homeward.', 'in', 'the', 'still', 'evening', 'air', 'the', \"wolf's\", 'piping', 'carried', 'far.', 'the', 'shepherd', 'dogs', 'pricked', 'up', 'their', 'ears.', 'they', 'recognized', 'the', 'song', 'the', 'wolf', 'sings', 'before', 'a', 'feast,', 'and', 'in', 'a', 'moment', 'they', 'were', 'racing', 'back', 'to', 'the', 'pasture.', 'the', \"wolf's\", 'song', 'ended', 'suddenly,', 'and', 'as', 'he', 'ran,', 'with', 'the', 'dogs', 'at', 'his', 'heels,', 'he', 'called', 'himself', 'a', 'fool', 'for', 'turning', 'piper', 'to', 'please', 'a', 'kid,', 'when', 'he', 'should', 'have', 'stuck', 'to', 'his', \"butcher's\", 'trade.', 'do', 'not', 'let', 'anything', 'turn', 'you', 'from', 'your', 'purpose.']\n",
            "Unique words (Types): ['a', 'able', 'air', 'all', 'alone.', 'and', 'anything', 'are', 'as', 'at', 'back', 'be', 'before', 'billy', 'bleating', 'but', \"butcher's\", 'called', 'called,', 'came', 'can.“', 'care', 'carried', 'chilly', 'clump', 'creeping', 'dance', 'do', 'dogs', 'ears.', 'eat', 'eating,', 'ended', 'evening', 'far.', 'feast,', 'field,', 'first', 'flock', 'fool', 'for', 'frisked', 'from', 'gaily.', 'goat', 'going', 'gone.', 'grass.', 'ground.', 'growing', 'grown-up', 'half-way,', 'have', 'he', 'head,', 'heed', 'heels,', 'him', 'him.', 'himself', 'himself.', 'his', 'home', 'homeward.', 'hope', 'horns', 'i', 'idea', 'in', 'kept', 'kid', 'kid,', 'knew', 'know', 'later', 'leaped', 'let', 'lifted', 'liked', 'little', 'long', 'made', 'making', 'me', 'me.', 'meanwhile,', 'merry', 'moment', 'mother', 'mother.', 'moving', 'mr.', 'music', 'near', 'nibbling', 'no', 'noises', 'not', 'of', 'on', 'once', 'one', 'over', 'paid', 'pasture', 'pasture.', 'pipe', 'piper', 'piping', 'please', 'pricked', 'purpose.', 'racing', 'ran,', 'recognized', 'right', 'said', 'scary', 'shadows', 'shepherd', 'shivered', 'should', 'sings', 'sinking.', 'slowly', 'so', 'song', 'started', 'still', 'struck', 'stuck', 'suddenly,', 'sun', 'take', 'tender', 'terrible', 'the', 'their', 'them', 'then', 'there', 'they', 'think', 'thought', 'to', 'trade.', 'trees,', 'trembling,', 'tune', 'tune,', 'turn', 'turning', 'up', 'want', 'was', 'were', 'when', 'whose', 'wildly', 'wind', 'with', 'wolf', 'wolf!', \"wolf's\", 'wolf,”', 'wolf.', 'you', 'your', '“i', '“please,']\n"
          ]
        }
      ]
    },
    {
      "cell_type": "markdown",
      "source": [
        "# 4. Ask again, does higher vlaue of TTR indicate either greater or lower variability of lexical use?"
      ],
      "metadata": {
        "id": "re2gErgHQDUO"
      }
    },
    {
      "cell_type": "markdown",
      "source": [
        "Answer from chat GPT: <font color = 'purple'> A higher value of TTR (Type-Token Ratio) typically indicates greater variability of lexical use. TTR measures the diversity of words in a given text. When TTR is higher, it means that there are more unique words (types) relative to the total number of words (tokens), suggesting a wider range of vocabulary and more diverse lexical usage in the text. In contrast, a lower TTR indicates that a smaller set of words is repeated more frequently, suggesting less diversity and greater repetition of words. So, a higher TTR is associated with a more varied lexical repertoire."
      ],
      "metadata": {
        "id": "B5euKG5JLG3u"
      }
    },
    {
      "cell_type": "markdown",
      "source": [
        "# **👀 <font color = 'red'> Do it yourself first!**  \n",
        "- ✅ Now **accomodate importing url** from your repository of Temp_Data on your github account **to** your current jupiter notebook on Colab, and calculate TTR again.\n",
        ">\n",
        "- ✅ You should estimate TTR with tokens converted lowercase!!!"
      ],
      "metadata": {
        "id": "3DttpqN3_nI5"
      }
    },
    {
      "cell_type": "code",
      "source": [
        "#@markdown ##**🎯🎯 In the following, you can find one possible answer.**\n",
        "\n",
        "def tokenize_and_lower(text):\n",
        "    # Tokenize the text into words (split by whitespace and punctuation)\n",
        "    words = text.split()\n",
        "    # Convert words to lowercase\n",
        "    words_lower = [word.lower() for word in words]\n",
        "    return words_lower\n",
        "\n",
        "import urllib.request\n",
        "url = \"https://raw.githubusercontent.com/000zion6570/Temp_Data/main/TheAesop4Children_1stEpisode.txt\"\n",
        "response = urllib.request.urlopen(url)\n",
        "content = response.read().decode('utf-8')\n",
        "print('The Aesop EP1:', content)\n",
        "\n",
        "# Get the tokens in lowercase\n",
        "tokens_lower = tokenize_and_lower(text)\n",
        "\n",
        "# Calculate TTR (Type-Token Ratio)\n",
        "unique_words = set(tokens_lower)\n",
        "ttr = len(unique_words) / len(tokens_lower)\n",
        "\n",
        "# Print the TTR, list of tokens, and list of unique words (types)\n",
        "print(\"Type-Token Ratio (TTR):\", ttr)\n",
        "print(\"Unique words (Types):\", sorted(unique_words))\n",
        "print(\"Tokens in lowercase:\", tokens_lower)\n"
      ],
      "metadata": {
        "id": "lPF2sJcivkhw"
      },
      "execution_count": null,
      "outputs": []
    },
    {
      "cell_type": "code",
      "source": [
        "#@markdown ##**🎯🎯 In the following, you can find one possible answer.**\n",
        "\n",
        "def tokenize_and_lower(text):\n",
        "    # Tokenize the text into words (split by whitespace and punctuation)\n",
        "    words = text.split()\n",
        "    # Convert words to lowercase\n",
        "    words_lower = [word.lower() for word in words]\n",
        "    return words_lower\n",
        "\n",
        "import urllib.request\n",
        "url = \"https://raw.githubusercontent.com/ms624atyale/Temp_Data/main/TheAesop4Children_1stEpisode.txt\"\n",
        "response = urllib.request.urlopen(url)\n",
        "content = response.read().decode('utf-8')\n",
        "print('The Aesop EP1:', content)\n",
        "\n",
        "# Get the tokens in lowercase\n",
        "tokens_lower = tokenize_and_lower(text)\n",
        "\n",
        "# Calculate TTR (Type-Token Ratio)\n",
        "unique_words = set(tokens_lower)\n",
        "ttr = len(unique_words) / len(tokens_lower)\n",
        "\n",
        "# Print the TTR, list of tokens, and list of unique words (types)\n",
        "print(\"Type-Token Ratio (TTR):\", ttr)\n",
        "print(\"Unique words (Types):\", sorted(unique_words))\n",
        "print(\"Tokens in lowercase:\", tokens_lower)\n"
      ],
      "metadata": {
        "id": "ECO8UP8rC2Ji",
        "outputId": "0f03bffb-29a4-4c26-d35b-d0671517c658",
        "colab": {
          "base_uri": "https://localhost:8080/"
        }
      },
      "execution_count": null,
      "outputs": [
        {
          "output_type": "stream",
          "name": "stdout",
          "text": [
            "The Aesop EP1: There was once a little Kid whose growing horns made him think he was a grown-up Billy Goat and able to take care of himself. So one evening when the flock started home from the pasture and his mother called, the Kid paid no heed and kept right on nibbling the tender grass. A little later when he lifted his head, the flock was gone. He was all alone. The sun was sinking. Long shadows came creeping over the ground. A chilly little wind came creeping with them making scary noises in the grass. The Kid shivered as he thought of the terrible Wolf. Then he started wildly over the field, bleating for his mother. But not half-way, near a clump of trees, there was the Wolf! The Kid knew there was little hope for him. “Please, Mr. Wolf,” he said trembling, “I know you are going to eat me. But first please pipe me a tune, for I want to dance and be merry as long as I can.“The Wolf liked the idea of a little music before eating, so he struck up a merry tune and the Kid leaped and frisked gaily. Meanwhile, the flock was moving slowly homeward. In the still evening air the Wolf's piping carried far. The Shepherd Dogs pricked up their ears. They recognized the song the Wolf sings before a feast, and in a moment they were racing back to the pasture. The Wolf's song ended suddenly, and as he ran, with the Dogs at his heels, he called himself a fool for turning piper to please a Kid, when he should have stuck to his butcher's trade. Do not let anything turn you from your purpose.\n",
            "Type-Token Ratio (TTR): 0.5964912280701754\n",
            "Unique words (Types): ['a', 'able', 'air', 'all', 'alone.', 'and', 'anything', 'are', 'as', 'at', 'back', 'be', 'before', 'billy', 'bleating', 'but', \"butcher's\", 'called', 'called,', 'came', 'can.“', 'care', 'carried', 'chilly', 'clump', 'creeping', 'dance', 'do', 'dogs', 'ears.', 'eat', 'eating,', 'ended', 'evening', 'far.', 'feast,', 'field,', 'first', 'flock', 'fool', 'for', 'frisked', 'from', 'gaily.', 'goat', 'going', 'gone.', 'grass.', 'ground.', 'growing', 'grown-up', 'half-way,', 'have', 'he', 'head,', 'heed', 'heels,', 'him', 'him.', 'himself', 'himself.', 'his', 'home', 'homeward.', 'hope', 'horns', 'i', 'idea', 'in', 'kept', 'kid', 'kid,', 'knew', 'know', 'later', 'leaped', 'let', 'lifted', 'liked', 'little', 'long', 'made', 'making', 'me', 'me.', 'meanwhile,', 'merry', 'moment', 'mother', 'mother.', 'moving', 'mr.', 'music', 'near', 'nibbling', 'no', 'noises', 'not', 'of', 'on', 'once', 'one', 'over', 'paid', 'pasture', 'pasture.', 'pipe', 'piper', 'piping', 'please', 'pricked', 'purpose.', 'racing', 'ran,', 'recognized', 'right', 'said', 'scary', 'shadows', 'shepherd', 'shivered', 'should', 'sings', 'sinking.', 'slowly', 'so', 'song', 'started', 'still', 'struck', 'stuck', 'suddenly,', 'sun', 'take', 'tender', 'terrible', 'the', 'their', 'them', 'then', 'there', 'they', 'think', 'thought', 'to', 'trade.', 'trees,', 'trembling,', 'tune', 'tune,', 'turn', 'turning', 'up', 'want', 'was', 'were', 'when', 'whose', 'wildly', 'wind', 'with', 'wolf', 'wolf!', \"wolf's\", 'wolf,”', 'wolf.', 'you', 'your', '“i', '“please,']\n",
            "Tokens in lowercase: ['there', 'was', 'once', 'a', 'little', 'kid', 'whose', 'growing', 'horns', 'made', 'him', 'think', 'he', 'was', 'a', 'grown-up', 'billy', 'goat', 'and', 'able', 'to', 'take', 'care', 'of', 'himself.', 'so', 'one', 'evening', 'when', 'the', 'flock', 'started', 'home', 'from', 'the', 'pasture', 'and', 'his', 'mother', 'called,', 'the', 'kid', 'paid', 'no', 'heed', 'and', 'kept', 'right', 'on', 'nibbling', 'the', 'tender', 'grass.', 'a', 'little', 'later', 'when', 'he', 'lifted', 'his', 'head,', 'the', 'flock', 'was', 'gone.', 'he', 'was', 'all', 'alone.', 'the', 'sun', 'was', 'sinking.', 'long', 'shadows', 'came', 'creeping', 'over', 'the', 'ground.', 'a', 'chilly', 'little', 'wind', 'came', 'creeping', 'with', 'them', 'making', 'scary', 'noises', 'in', 'the', 'grass.', 'the', 'kid', 'shivered', 'as', 'he', 'thought', 'of', 'the', 'terrible', 'wolf.', 'then', 'he', 'started', 'wildly', 'over', 'the', 'field,', 'bleating', 'for', 'his', 'mother.', 'but', 'not', 'half-way,', 'near', 'a', 'clump', 'of', 'trees,', 'there', 'was', 'the', 'wolf!', 'the', 'kid', 'knew', 'there', 'was', 'little', 'hope', 'for', 'him.', '“please,', 'mr.', 'wolf,”', 'he', 'said', 'trembling,', '“i', 'know', 'you', 'are', 'going', 'to', 'eat', 'me.', 'but', 'first', 'please', 'pipe', 'me', 'a', 'tune,', 'for', 'i', 'want', 'to', 'dance', 'and', 'be', 'merry', 'as', 'long', 'as', 'i', 'can.“', 'the', 'wolf', 'liked', 'the', 'idea', 'of', 'a', 'little', 'music', 'before', 'eating,', 'so', 'he', 'struck', 'up', 'a', 'merry', 'tune', 'and', 'the', 'kid', 'leaped', 'and', 'frisked', 'gaily.', 'meanwhile,', 'the', 'flock', 'was', 'moving', 'slowly', 'homeward.', 'in', 'the', 'still', 'evening', 'air', 'the', \"wolf's\", 'piping', 'carried', 'far.', 'the', 'shepherd', 'dogs', 'pricked', 'up', 'their', 'ears.', 'they', 'recognized', 'the', 'song', 'the', 'wolf', 'sings', 'before', 'a', 'feast,', 'and', 'in', 'a', 'moment', 'they', 'were', 'racing', 'back', 'to', 'the', 'pasture.', 'the', \"wolf's\", 'song', 'ended', 'suddenly,', 'and', 'as', 'he', 'ran,', 'with', 'the', 'dogs', 'at', 'his', 'heels,', 'he', 'called', 'himself', 'a', 'fool', 'for', 'turning', 'piper', 'to', 'please', 'a', 'kid,', 'when', 'he', 'should', 'have', 'stuck', 'to', 'his', \"butcher's\", 'trade.', 'do', 'not', 'let', 'anything', 'turn', 'you', 'from', 'your', 'purpose.']\n"
          ]
        }
      ]
    },
    {
      "cell_type": "markdown",
      "source": [
        "# **👀 <font color = 'red'> Now you are going to do...**  \n",
        "- Find an article on a web page of your choice.\n",
        "- This time, visit **[www.npr.org](https://www.npr.org/2023/11/08/1211483883/olympics-russia-israel-gaza-sanctions-ioc)** for class activity.\n",
        "- visit **[Arts and Sciences of Washington University](https://ealc.wustl.edu/news/folktales-cultural-literacy)**for your class activity."
      ],
      "metadata": {
        "id": "M3mpBoU6H8wj"
      }
    },
    {
      "cell_type": "markdown",
      "source": [
        "### 🍋 <font color = 'brown'> **Copy and paste the html from the NPR link above.**"
      ],
      "metadata": {
        "id": "ft18ujmg6AFa"
      }
    },
    {
      "cell_type": "code",
      "source": [
        "text = \"\"\"\n",
        "When violence in Israel and Gaza escalated after last month's terror attack by Hamas, the International Olympic Committee (IOC) issued a statement warning against \"discriminatory behavior\" against Israeli athletes competing around the world.\n",
        "\n",
        "\"[A]thletes cannot be held responsible for the actions of their governments,\" an IOC spokesperson told the German Press Agency, promising \"swift action\" if incidents occur.\n",
        "\n",
        "Russian officials reacted angrily to the IOC's stance toward Israel, noting that in October the Russian Olympic Committee was suspended for actions taken in occupied regions of eastern Ukraine.\n",
        "\n",
        "\"This is, of course, outrageous,\" said Russian Foreign Minister Sergey Lavrov, in an interview posted on Telegram. \"Once again we see an example of the bias and ineptitude of the International Olympic Committee, which time and again proves its political bent.\"\n",
        "\"\"\"\n",
        "\n",
        "count = len(text)\n",
        "print(count)\n",
        "print('The text of the article:', text)"
      ],
      "metadata": {
        "id": "O1J7lu0wulp8",
        "outputId": "8f9539f5-ebc4-458b-d2a3-29e31118ab2d",
        "colab": {
          "base_uri": "https://localhost:8080/"
        }
      },
      "execution_count": 8,
      "outputs": [
        {
          "output_type": "stream",
          "name": "stdout",
          "text": [
            "874\n",
            "The text of the article: \n",
            "When violence in Israel and Gaza escalated after last month's terror attack by Hamas, the International Olympic Committee (IOC) issued a statement warning against \"discriminatory behavior\" against Israeli athletes competing around the world.\n",
            "\n",
            "\"[A]thletes cannot be held responsible for the actions of their governments,\" an IOC spokesperson told the German Press Agency, promising \"swift action\" if incidents occur.\n",
            "\n",
            "Russian officials reacted angrily to the IOC's stance toward Israel, noting that in October the Russian Olympic Committee was suspended for actions taken in occupied regions of eastern Ukraine.\n",
            "\n",
            "\"This is, of course, outrageous,\" said Russian Foreign Minister Sergey Lavrov, in an interview posted on Telegram. \"Once again we see an example of the bias and ineptitude of the International Olympic Committee, which time and again proves its political bent.\"\n",
            "\n"
          ]
        }
      ]
    },
    {
      "cell_type": "markdown",
      "source": [
        "### 🍋🍋 <font color = 'brown'> **Replace \\n with a white space and compare the length of the string between code cell [28] and code cell [31].**⤵️"
      ],
      "metadata": {
        "id": "DNpuqFRI7T2J"
      }
    },
    {
      "cell_type": "code",
      "source": [
        "text = \"\"\"\n",
        "When violence in Israel and Gaza escalated after last month's terror attack by Hamas, the International Olympic Committee (IOC) issued a statement warning against \"discriminatory behavior\" against Israeli athletes competing around the world.\n",
        "\n",
        "\"[A]thletes cannot be held responsible for the actions of their governments,\" an IOC spokesperson told the German Press Agency, promising \"swift action\" if incidents occur.\n",
        "\n",
        "Russian officials reacted angrily to the IOC's stance toward Israel, noting that in October the Russian Olympic Committee was suspended for actions taken in occupied regions of eastern Ukraine.\n",
        "\n",
        "\"This is, of course, outrageous,\" said Russian Foreign Minister Sergey Lavrov, in an interview posted on Telegram. \"Once again we see an example of the bias and ineptitude of the International Olympic Committee, which time and again proves its political bent.\"\n",
        "\"\"\"\n",
        "\n",
        "text_nl = text.replace('\\n', ' ')\n",
        "\n",
        "count = len(text)\n",
        "print(count)\n",
        "print('The text of the article:', text_nl)"
      ],
      "metadata": {
        "id": "hWgyo_QIvfti",
        "outputId": "b634f914-8b62-4af4-ec0e-2ae334bf5aab",
        "colab": {
          "base_uri": "https://localhost:8080/"
        }
      },
      "execution_count": null,
      "outputs": [
        {
          "output_type": "stream",
          "name": "stdout",
          "text": [
            "874\n",
            "The text of the article:  When violence in Israel and Gaza escalated after last month's terror attack by Hamas, the International Olympic Committee (IOC) issued a statement warning against \"discriminatory behavior\" against Israeli athletes competing around the world.  \"[A]thletes cannot be held responsible for the actions of their governments,\" an IOC spokesperson told the German Press Agency, promising \"swift action\" if incidents occur.  Russian officials reacted angrily to the IOC's stance toward Israel, noting that in October the Russian Olympic Committee was suspended for actions taken in occupied regions of eastern Ukraine.  \"This is, of course, outrageous,\" said Russian Foreign Minister Sergey Lavrov, in an interview posted on Telegram. \"Once again we see an example of the bias and ineptitude of the International Olympic Committee, which time and again proves its political bent.\" \n"
          ]
        }
      ]
    },
    {
      "cell_type": "markdown",
      "source": [
        "### 🍋🍋🍋 <font color = 'red'> **Some passages from NPR**"
      ],
      "metadata": {
        "id": "2cb9bQhk7eKE"
      }
    },
    {
      "cell_type": "code",
      "source": [
        "#@markdown ### 🍎 Write a script for TTL as you copy and paste html format in the text.\n",
        "\n",
        "\n",
        "# Define a function to tokenize and convert to lowercase\n",
        "def tokenize_and_lower(text):\n",
        "    # Tokenize the text into words (split by whitespace and punctuation)\n",
        "    words = text.split()\n",
        "    # Convert words to lowercase\n",
        "    words_lower = [word.lower() for word in words]\n",
        "    return words_lower\n",
        "\n",
        "# Define the text as you copy and paste something from an internet webstie.\n",
        "text = \"\"\"\n",
        "When violence in Israel and Gaza escalated after last month's terror attack by Hamas, the International Olympic Committee (IOC) issued a statement warning against \"discriminatory behavior\" against Israeli athletes competing around the world.\n",
        "\n",
        "\"[A]thletes cannot be held responsible for the actions of their governments,\" an IOC spokesperson told the German Press Agency, promising \"swift action\" if incidents occur.\n",
        "\n",
        "Russian officials reacted angrily to the IOC's stance toward Israel, noting that in October the Russian Olympic Committee was suspended for actions taken in occupied regions of eastern Ukraine.\n",
        "\n",
        "\"This is, of course, outrageous,\" said Russian Foreign Minister Sergey Lavrov, in an interview posted on Telegram. \"Once again we see an example of the bias and ineptitude of the International Olympic Committee, which time and again proves its political bent.\"\n",
        "\"\"\"\n",
        "\n",
        "# Get the tokens in lowercase\n",
        "tokens_lower = tokenize_and_lower(text)\n",
        "\n",
        "# Calculate TTR (Type-Token Ratio)\n",
        "unique_words = set(tokens_lower)\n",
        "ttr = len(unique_words) / len(tokens_lower)\n",
        "\n",
        "# Print the TTR, list of tokens, and list of unique words (types)\n",
        "print(\"Type-Token Ratio (TTR):\", ttr)\n",
        "print(\"Unique words (Types):\", sorted(unique_words))\n",
        "print(\"Tokens in Lowercase:\", tokens_lower)"
      ],
      "metadata": {
        "id": "L3hnINcDRaZi",
        "outputId": "b7a14d23-305f-4ddc-a0ce-49e6f368a5f1",
        "colab": {
          "base_uri": "https://localhost:8080/"
        }
      },
      "execution_count": 9,
      "outputs": [
        {
          "output_type": "stream",
          "name": "stdout",
          "text": [
            "Type-Token Ratio (TTR): 0.78125\n",
            "Unique words (Types): ['\"[a]thletes', '\"discriminatory', '\"once', '\"swift', '\"this', '(ioc)', 'a', 'action\"', 'actions', 'after', 'again', 'against', 'agency,', 'an', 'and', 'angrily', 'around', 'athletes', 'attack', 'be', 'behavior\"', 'bent.\"', 'bias', 'by', 'cannot', 'committee', 'committee,', 'competing', 'course,', 'eastern', 'escalated', 'example', 'for', 'foreign', 'gaza', 'german', 'governments,\"', 'hamas,', 'held', 'if', 'in', 'incidents', 'ineptitude', 'international', 'interview', 'ioc', \"ioc's\", 'is,', 'israel', 'israel,', 'israeli', 'issued', 'its', 'last', 'lavrov,', 'minister', \"month's\", 'noting', 'occupied', 'occur.', 'october', 'of', 'officials', 'olympic', 'on', 'outrageous,\"', 'political', 'posted', 'press', 'promising', 'proves', 'reacted', 'regions', 'responsible', 'russian', 'said', 'see', 'sergey', 'spokesperson', 'stance', 'statement', 'suspended', 'taken', 'telegram.', 'terror', 'that', 'the', 'their', 'time', 'to', 'told', 'toward', 'ukraine.', 'violence', 'warning', 'was', 'we', 'when', 'which', 'world.']\n",
            "Tokens in Lowercase: ['when', 'violence', 'in', 'israel', 'and', 'gaza', 'escalated', 'after', 'last', \"month's\", 'terror', 'attack', 'by', 'hamas,', 'the', 'international', 'olympic', 'committee', '(ioc)', 'issued', 'a', 'statement', 'warning', 'against', '\"discriminatory', 'behavior\"', 'against', 'israeli', 'athletes', 'competing', 'around', 'the', 'world.', '\"[a]thletes', 'cannot', 'be', 'held', 'responsible', 'for', 'the', 'actions', 'of', 'their', 'governments,\"', 'an', 'ioc', 'spokesperson', 'told', 'the', 'german', 'press', 'agency,', 'promising', '\"swift', 'action\"', 'if', 'incidents', 'occur.', 'russian', 'officials', 'reacted', 'angrily', 'to', 'the', \"ioc's\", 'stance', 'toward', 'israel,', 'noting', 'that', 'in', 'october', 'the', 'russian', 'olympic', 'committee', 'was', 'suspended', 'for', 'actions', 'taken', 'in', 'occupied', 'regions', 'of', 'eastern', 'ukraine.', '\"this', 'is,', 'of', 'course,', 'outrageous,\"', 'said', 'russian', 'foreign', 'minister', 'sergey', 'lavrov,', 'in', 'an', 'interview', 'posted', 'on', 'telegram.', '\"once', 'again', 'we', 'see', 'an', 'example', 'of', 'the', 'bias', 'and', 'ineptitude', 'of', 'the', 'international', 'olympic', 'committee,', 'which', 'time', 'and', 'again', 'proves', 'its', 'political', 'bent.\"']\n"
          ]
        }
      ]
    },
    {
      "cell_type": "markdown",
      "source": [
        "### 🍋🍋🍋🍋 <font color = 'red'> **Some passages from Washington University I**"
      ],
      "metadata": {
        "id": "i0RnlBpk8lwF"
      }
    },
    {
      "cell_type": "code",
      "source": [
        "# Define a function to tokenize and convert to lowercase\n",
        "def tokenize_and_lower(text):\n",
        "    # Replace newline characters with white space\n",
        "    text = text.replace(\"\\n\", \" \")\n",
        "    # Tokenize the text into words (split by whitespace and punctuation)\n",
        "    words = text.split()\n",
        "    # Convert words to lowercase\n",
        "    words_lower = [word.lower() for word in words]\n",
        "    return words_lower\n",
        "\n",
        "# Define the text as you copy and paste something from an internet webstie.\n",
        "text1 = \"\"\"\n",
        "Mimi Kim, teaching professor of Korean language, is the co-author of a new Korean language textbook that uses folktales as a springboard for language learning.\n",
        "The 21 stories that make up Tigers, Fairies, and Gods: Enchanting Folktales from Korea progress through increasingly challenging levels of diction and vocabulary while developing students’ cultural literacy.\\n\n",
        "Every semester, Mimi Kim asks her Korean language students at WashU to write their own Korean-style folktales. She says that folktales are “rich in cultural context, and so they provide a very effective backdrop for discussions about cultural practices and perspectives. Students really get into our discussions about commonalities and differences between Korean folktales and the stories that they grew up with in their own communities.” Kim sees cultural literacy as a key tool for the language classroom. Tigers, Fairies, and Gods grew out of that idea.\\n\n",
        "The book is an unusually rich visual object, with vibrant illustrations done in a style that is evocative of Korean animation. Kim and her co-author, Angela Lee-Smith of Yale University, use visual and linguistic cues to engage with students’ cultural knowledge. In “Sister Sun and Brother Moon,” for example, a brother and sister encounter a tiger in their mother’s clothing in a scene that might evoke echoes of “Little Red Riding Hood” for readers who grew up with the Grimm brothers’ tales.\n",
        "That kind of cross-cultural comparison is exactly what we hope for in humanities education, Kim says. “By learning a new language you gain a richer understanding of cultural differences and similarities,” she says. “Folktales are a natural tool for that work. They just needed to be put together in a way that was more useful for students.”\n",
        "\"\"\"\n",
        "\n",
        "count1 = len(text1)\n",
        "print(count1)\n",
        "\n",
        "text2 = text1.replace('\\n', ' ')\n",
        "count2 = len(text2)\n",
        "print(count2)\n",
        "\n",
        "print('The text of the article:', text1)\n",
        "\n",
        "# Get the tokens in lowercase\n",
        "tokens_lower = tokenize_and_lower(text1)\n",
        "\n",
        "# Calculate TTR (Type-Token Ratio)\n",
        "unique_words = set(tokens_lower)\n",
        "ttr = len(unique_words) / len(tokens_lower)\n",
        "\n",
        "# Print the TTR, list of tokens, and list of unique words (types)\n",
        "print(\"Type-Token Ratio (TTR):\", ttr)\n",
        "print(\"Tokens in Lowercase:\", tokens_lower)\n",
        "print(\"Unique words (Types):\", sorted(unique_words))"
      ],
      "metadata": {
        "id": "g401WvvRlH8N",
        "outputId": "1699f42d-127e-43b4-d1c2-6c498c6169fc",
        "colab": {
          "base_uri": "https://localhost:8080/"
        }
      },
      "execution_count": null,
      "outputs": [
        {
          "output_type": "stream",
          "name": "stdout",
          "text": [
            "1764\n",
            "1764\n",
            "The text of the article: \n",
            "Mimi Kim, teaching professor of Korean language, is the co-author of a new Korean language textbook that uses folktales as a springboard for language learning.\n",
            "The 21 stories that make up Tigers, Fairies, and Gods: Enchanting Folktales from Korea progress through increasingly challenging levels of diction and vocabulary while developing students’ cultural literacy.\n",
            "\n",
            "Every semester, Mimi Kim asks her Korean language students at WashU to write their own Korean-style folktales. She says that folktales are “rich in cultural context, and so they provide a very effective backdrop for discussions about cultural practices and perspectives. Students really get into our discussions about commonalities and differences between Korean folktales and the stories that they grew up with in their own communities.” Kim sees cultural literacy as a key tool for the language classroom. Tigers, Fairies, and Gods grew out of that idea.\n",
            "\n",
            "The book is an unusually rich visual object, with vibrant illustrations done in a style that is evocative of Korean animation. Kim and her co-author, Angela Lee-Smith of Yale University, use visual and linguistic cues to engage with students’ cultural knowledge. In “Sister Sun and Brother Moon,” for example, a brother and sister encounter a tiger in their mother’s clothing in a scene that might evoke echoes of “Little Red Riding Hood” for readers who grew up with the Grimm brothers’ tales.\n",
            "That kind of cross-cultural comparison is exactly what we hope for in humanities education, Kim says. “By learning a new language you gain a richer understanding of cultural differences and similarities,” she says. “Folktales are a natural tool for that work. They just needed to be put together in a way that was more useful for students.”\n",
            "\n",
            "Type-Token Ratio (TTR): 0.5985663082437276\n",
            "Tokens in Lowercase: ['mimi', 'kim,', 'teaching', 'professor', 'of', 'korean', 'language,', 'is', 'the', 'co-author', 'of', 'a', 'new', 'korean', 'language', 'textbook', 'that', 'uses', 'folktales', 'as', 'a', 'springboard', 'for', 'language', 'learning.', 'the', '21', 'stories', 'that', 'make', 'up', 'tigers,', 'fairies,', 'and', 'gods:', 'enchanting', 'folktales', 'from', 'korea', 'progress', 'through', 'increasingly', 'challenging', 'levels', 'of', 'diction', 'and', 'vocabulary', 'while', 'developing', 'students’', 'cultural', 'literacy.', 'every', 'semester,', 'mimi', 'kim', 'asks', 'her', 'korean', 'language', 'students', 'at', 'washu', 'to', 'write', 'their', 'own', 'korean-style', 'folktales.', 'she', 'says', 'that', 'folktales', 'are', '“rich', 'in', 'cultural', 'context,', 'and', 'so', 'they', 'provide', 'a', 'very', 'effective', 'backdrop', 'for', 'discussions', 'about', 'cultural', 'practices', 'and', 'perspectives.', 'students', 'really', 'get', 'into', 'our', 'discussions', 'about', 'commonalities', 'and', 'differences', 'between', 'korean', 'folktales', 'and', 'the', 'stories', 'that', 'they', 'grew', 'up', 'with', 'in', 'their', 'own', 'communities.”', 'kim', 'sees', 'cultural', 'literacy', 'as', 'a', 'key', 'tool', 'for', 'the', 'language', 'classroom.', 'tigers,', 'fairies,', 'and', 'gods', 'grew', 'out', 'of', 'that', 'idea.', 'the', 'book', 'is', 'an', 'unusually', 'rich', 'visual', 'object,', 'with', 'vibrant', 'illustrations', 'done', 'in', 'a', 'style', 'that', 'is', 'evocative', 'of', 'korean', 'animation.', 'kim', 'and', 'her', 'co-author,', 'angela', 'lee-smith', 'of', 'yale', 'university,', 'use', 'visual', 'and', 'linguistic', 'cues', 'to', 'engage', 'with', 'students’', 'cultural', 'knowledge.', 'in', '“sister', 'sun', 'and', 'brother', 'moon,”', 'for', 'example,', 'a', 'brother', 'and', 'sister', 'encounter', 'a', 'tiger', 'in', 'their', 'mother’s', 'clothing', 'in', 'a', 'scene', 'that', 'might', 'evoke', 'echoes', 'of', '“little', 'red', 'riding', 'hood”', 'for', 'readers', 'who', 'grew', 'up', 'with', 'the', 'grimm', 'brothers’', 'tales.', 'that', 'kind', 'of', 'cross-cultural', 'comparison', 'is', 'exactly', 'what', 'we', 'hope', 'for', 'in', 'humanities', 'education,', 'kim', 'says.', '“by', 'learning', 'a', 'new', 'language', 'you', 'gain', 'a', 'richer', 'understanding', 'of', 'cultural', 'differences', 'and', 'similarities,”', 'she', 'says.', '“folktales', 'are', 'a', 'natural', 'tool', 'for', 'that', 'work.', 'they', 'just', 'needed', 'to', 'be', 'put', 'together', 'in', 'a', 'way', 'that', 'was', 'more', 'useful', 'for', 'students.”']\n",
            "Unique words (Types): ['21', 'a', 'about', 'an', 'and', 'angela', 'animation.', 'are', 'as', 'asks', 'at', 'backdrop', 'be', 'between', 'book', 'brother', 'brothers’', 'challenging', 'classroom.', 'clothing', 'co-author', 'co-author,', 'commonalities', 'communities.”', 'comparison', 'context,', 'cross-cultural', 'cues', 'cultural', 'developing', 'diction', 'differences', 'discussions', 'done', 'echoes', 'education,', 'effective', 'enchanting', 'encounter', 'engage', 'every', 'evocative', 'evoke', 'exactly', 'example,', 'fairies,', 'folktales', 'folktales.', 'for', 'from', 'gain', 'get', 'gods', 'gods:', 'grew', 'grimm', 'her', 'hood”', 'hope', 'humanities', 'idea.', 'illustrations', 'in', 'increasingly', 'into', 'is', 'just', 'key', 'kim', 'kim,', 'kind', 'knowledge.', 'korea', 'korean', 'korean-style', 'language', 'language,', 'learning', 'learning.', 'lee-smith', 'levels', 'linguistic', 'literacy', 'literacy.', 'make', 'might', 'mimi', 'moon,”', 'more', 'mother’s', 'natural', 'needed', 'new', 'object,', 'of', 'our', 'out', 'own', 'perspectives.', 'practices', 'professor', 'progress', 'provide', 'put', 'readers', 'really', 'red', 'rich', 'richer', 'riding', 'says', 'says.', 'scene', 'sees', 'semester,', 'she', 'similarities,”', 'sister', 'so', 'springboard', 'stories', 'students', 'students.”', 'students’', 'style', 'sun', 'tales.', 'teaching', 'textbook', 'that', 'the', 'their', 'they', 'through', 'tiger', 'tigers,', 'to', 'together', 'tool', 'understanding', 'university,', 'unusually', 'up', 'use', 'useful', 'uses', 'very', 'vibrant', 'visual', 'vocabulary', 'was', 'washu', 'way', 'we', 'what', 'while', 'who', 'with', 'work.', 'write', 'yale', 'you', '“by', '“folktales', '“little', '“rich', '“sister']\n"
          ]
        }
      ]
    },
    {
      "cell_type": "markdown",
      "source": [
        "### 🍋🍋🍋🍋🍋 <font color = 'red'> **Some passages from Washington University II**"
      ],
      "metadata": {
        "id": "Hp-EEMJU88US"
      }
    },
    {
      "cell_type": "code",
      "source": [
        "# Define a function to tokenize and convert to lowercase\n",
        "def tokenize_and_lower(text):\n",
        "    # Replace newline characters with white space\n",
        "    text = text.replace(\"\\n\", \" \")\n",
        "    # Tokenize the text into words (split by whitespace and punctuation)\n",
        "    words = text.split()\n",
        "    # Convert words to lowercase\n",
        "    words_lower = [word.lower() for word in words]\n",
        "    return words_lower\n",
        "\n",
        "# Define the text as you copy and paste something from an internet webstie.\n",
        "text1 = \"\"\"\n",
        "Mimi Kim, teaching professor of Korean language, is the co-author of a new Korean language textbook that uses folktales as a springboard for language learning. The 21 stories that make up Tigers, Fairies, and Gods: Enchanting Folktales from Korea progress through increasingly challenging levels of diction and vocabulary while developing students’ cultural literacy.\\n Every semester, Mimi Kim asks her Korean language students at WashU to write their own Korean-style folktales. She says that folktales are “rich in cultural context, and so they provide a very effective backdrop for discussions about cultural practices and perspectives. Students really get into our discussions about commonalities and differences between Korean folktales and the stories that they grew up with in their own communities.” Kim sees cultural literacy as a key tool for the language classroom. Tigers, Fairies, and Gods grew out of that idea.\\n The book is an unusually rich visual object, with vibrant illustrations done in a style that is evocative of Korean animation. Kim and her co-author, Angela Lee-Smith of Yale University, use visual and linguistic cues to engage with students’ cultural knowledge. In “Sister Sun and Brother Moon,” for example, a brother and sister encounter a tiger in their mother’s clothing in a scene that might evoke echoes of “Little Red Riding Hood” for readers who grew up with the Grimm brothers’ tales. That kind of cross-cultural comparison is exactly what we hope for in humanities education, Kim says. “By learning a new language you gain a richer understanding of cultural differences and similarities,” she says. “Folktales are a natural tool for that work. They just needed to be put together in a way that was more useful for students.”\n",
        "\"\"\"\n",
        "\n",
        "count1 = len(text1)\n",
        "print(count1)\n",
        "\n",
        "text2 = text1.replace('\\n', ' ')\n",
        "count2 = len(text2)\n",
        "print(count2)"
      ],
      "metadata": {
        "id": "t6SklxaW4kEA",
        "outputId": "b6809489-9f7f-49bf-957d-3ad11d74ab3e",
        "colab": {
          "base_uri": "https://localhost:8080/"
        }
      },
      "execution_count": null,
      "outputs": [
        {
          "output_type": "stream",
          "name": "stdout",
          "text": [
            "1764\n",
            "1764\n"
          ]
        }
      ]
    },
    {
      "cell_type": "code",
      "source": [
        "#@markdown ### 🍎🍎 Write a script for TTL as you use url of your github where you've saved part of webpage using ms word as UTF-8.\n",
        "\n",
        "import urllib.request\n",
        "url = \"https://raw.githubusercontent.com/ms624atyale/Temp_Data/main/Article_about_enchanting_folktakes_from_Korea.txt\"\n",
        "response = urllib.request.urlopen(url)\n",
        "content = response.read().decode('utf-8')\n",
        "\n",
        "print(content)\n",
        "\n",
        "words = content.split()\n",
        "\n",
        "# Calculate TTR (Type-Token Ratio)\n",
        "unique_words = set(words)\n",
        "ttr = len(unique_words) / len(words)\n",
        "\n",
        "# Print the TTR, list of tokens, and list of unique words (types)\n",
        "print(\"Type-Token Ratio (TTR):\", ttr)\n",
        "print(\"Unique words (Types):\", sorted(unique_words))\n",
        "print(\"Tokens:\", words)\n"
      ],
      "metadata": {
        "id": "-S-xxJ6IJCgW",
        "outputId": "5bbea853-8f0f-48d2-91dd-bf60057ff25f",
        "colab": {
          "base_uri": "https://localhost:8080/"
        }
      },
      "execution_count": null,
      "outputs": [
        {
          "output_type": "stream",
          "name": "stdout",
          "text": [
            "Mimi Kim, teaching professor of Korean language, is the co-author of a new Korean language textbook that uses folktales as a springboard for language learning.\n",
            "The 21 stories that make up Tigers, Fairies, and Gods: Enchanting Folktales from Korea progress through increasingly challenging levels of diction and vocabulary while developing students’ cultural literacy.\\n\n",
            "Every semester, Mimi Kim asks her Korean language students at WashU to write their own Korean-style folktales. She says that folktales are “rich in cultural context, and so they provide a very effective backdrop for discussions about cultural practices and perspectives. Students really get into our discussions about commonalities and differences between Korean folktales and the stories that they grew up with in their own communities.” Kim sees cultural literacy as a key tool for the language classroom. Tigers, Fairies, and Gods grew out of that idea.\\n\n",
            "The book is an unusually rich visual object, with vibrant illustrations done in a style that is evocative of Korean animation. Kim and her co-author, Angela Lee-Smith of Yale University, use visual and linguistic cues to engage with students’ cultural knowledge. In “Sister Sun and Brother Moon,” for example, a brother and sister encounter a tiger in their mother’s clothing in a scene that might evoke echoes of “Little Red Riding Hood” for readers who grew up with the Grimm brothers’ tales.\n",
            "That kind of cross-cultural comparison is exactly what we hope for in humanities education, Kim says. “By learning a new language you gain a richer understanding of cultural differences and similarities,” she says. “Folktales are a natural tool for that work. They just needed to be put together in a way that was more useful for students.”\n",
            "\n",
            "Type-Token Ratio (TTR): 0.6272401433691757\n",
            "Unique words (Types): ['21', 'Angela', 'Brother', 'Enchanting', 'Every', 'Fairies,', 'Folktales', 'Gods', 'Gods:', 'Grimm', 'Hood”', 'In', 'Kim', 'Kim,', 'Korea', 'Korean', 'Korean-style', 'Lee-Smith', 'Mimi', 'Moon,”', 'Red', 'Riding', 'She', 'Students', 'Sun', 'That', 'The', 'They', 'Tigers,', 'University,', 'WashU', 'Yale', 'a', 'about', 'an', 'and', 'animation.', 'are', 'as', 'asks', 'at', 'backdrop', 'be', 'between', 'book', 'brother', 'brothers’', 'challenging', 'classroom.', 'clothing', 'co-author', 'co-author,', 'commonalities', 'communities.”', 'comparison', 'context,', 'cross-cultural', 'cues', 'cultural', 'developing', 'diction', 'differences', 'discussions', 'done', 'echoes', 'education,', 'effective', 'encounter', 'engage', 'evocative', 'evoke', 'exactly', 'example,', 'folktales', 'folktales.', 'for', 'from', 'gain', 'get', 'grew', 'her', 'hope', 'humanities', 'idea.\\\\n', 'illustrations', 'in', 'increasingly', 'into', 'is', 'just', 'key', 'kind', 'knowledge.', 'language', 'language,', 'learning', 'learning.', 'levels', 'linguistic', 'literacy', 'literacy.\\\\n', 'make', 'might', 'more', 'mother’s', 'natural', 'needed', 'new', 'object,', 'of', 'our', 'out', 'own', 'perspectives.', 'practices', 'professor', 'progress', 'provide', 'put', 'readers', 'really', 'rich', 'richer', 'says', 'says.', 'scene', 'sees', 'semester,', 'she', 'similarities,”', 'sister', 'so', 'springboard', 'stories', 'students', 'students.”', 'students’', 'style', 'tales.', 'teaching', 'textbook', 'that', 'the', 'their', 'they', 'through', 'tiger', 'to', 'together', 'tool', 'understanding', 'unusually', 'up', 'use', 'useful', 'uses', 'very', 'vibrant', 'visual', 'vocabulary', 'was', 'way', 'we', 'what', 'while', 'who', 'with', 'work.', 'write', 'you', '“By', '“Folktales', '“Little', '“Sister', '“rich']\n",
            "Tokens: ['Mimi', 'Kim,', 'teaching', 'professor', 'of', 'Korean', 'language,', 'is', 'the', 'co-author', 'of', 'a', 'new', 'Korean', 'language', 'textbook', 'that', 'uses', 'folktales', 'as', 'a', 'springboard', 'for', 'language', 'learning.', 'The', '21', 'stories', 'that', 'make', 'up', 'Tigers,', 'Fairies,', 'and', 'Gods:', 'Enchanting', 'Folktales', 'from', 'Korea', 'progress', 'through', 'increasingly', 'challenging', 'levels', 'of', 'diction', 'and', 'vocabulary', 'while', 'developing', 'students’', 'cultural', 'literacy.\\\\n', 'Every', 'semester,', 'Mimi', 'Kim', 'asks', 'her', 'Korean', 'language', 'students', 'at', 'WashU', 'to', 'write', 'their', 'own', 'Korean-style', 'folktales.', 'She', 'says', 'that', 'folktales', 'are', '“rich', 'in', 'cultural', 'context,', 'and', 'so', 'they', 'provide', 'a', 'very', 'effective', 'backdrop', 'for', 'discussions', 'about', 'cultural', 'practices', 'and', 'perspectives.', 'Students', 'really', 'get', 'into', 'our', 'discussions', 'about', 'commonalities', 'and', 'differences', 'between', 'Korean', 'folktales', 'and', 'the', 'stories', 'that', 'they', 'grew', 'up', 'with', 'in', 'their', 'own', 'communities.”', 'Kim', 'sees', 'cultural', 'literacy', 'as', 'a', 'key', 'tool', 'for', 'the', 'language', 'classroom.', 'Tigers,', 'Fairies,', 'and', 'Gods', 'grew', 'out', 'of', 'that', 'idea.\\\\n', 'The', 'book', 'is', 'an', 'unusually', 'rich', 'visual', 'object,', 'with', 'vibrant', 'illustrations', 'done', 'in', 'a', 'style', 'that', 'is', 'evocative', 'of', 'Korean', 'animation.', 'Kim', 'and', 'her', 'co-author,', 'Angela', 'Lee-Smith', 'of', 'Yale', 'University,', 'use', 'visual', 'and', 'linguistic', 'cues', 'to', 'engage', 'with', 'students’', 'cultural', 'knowledge.', 'In', '“Sister', 'Sun', 'and', 'Brother', 'Moon,”', 'for', 'example,', 'a', 'brother', 'and', 'sister', 'encounter', 'a', 'tiger', 'in', 'their', 'mother’s', 'clothing', 'in', 'a', 'scene', 'that', 'might', 'evoke', 'echoes', 'of', '“Little', 'Red', 'Riding', 'Hood”', 'for', 'readers', 'who', 'grew', 'up', 'with', 'the', 'Grimm', 'brothers’', 'tales.', 'That', 'kind', 'of', 'cross-cultural', 'comparison', 'is', 'exactly', 'what', 'we', 'hope', 'for', 'in', 'humanities', 'education,', 'Kim', 'says.', '“By', 'learning', 'a', 'new', 'language', 'you', 'gain', 'a', 'richer', 'understanding', 'of', 'cultural', 'differences', 'and', 'similarities,”', 'she', 'says.', '“Folktales', 'are', 'a', 'natural', 'tool', 'for', 'that', 'work.', 'They', 'just', 'needed', 'to', 'be', 'put', 'together', 'in', 'a', 'way', 'that', 'was', 'more', 'useful', 'for', 'students.”']\n"
          ]
        }
      ]
    },
    {
      "cell_type": "markdown",
      "source": [
        "##🍰🎂🍧 A digital humanities project by  Enchanting folktales from Korea. ENJOY!\n",
        "\n",
        "###**[Article about the enchanting folktakes from Korea](https://ealc.wustl.edu/news/folktales-cultural-literacy)**\n",
        "\n",
        "###**[Enchanting folktales from Korean on Youtube](https://www.youtube.com/playlist?list=PLgJYJCNIVKi1XNC3swicgU-9nRpnf82Lm)**\n",
        "\n"
      ],
      "metadata": {
        "id": "qDNU9VmbfHAu"
      }
    }
  ]
}