{
  "nbformat": 4,
  "nbformat_minor": 0,
  "metadata": {
    "colab": {
      "provenance": [],
      "authorship_tag": "ABX9TyMj40OrjRJJsdnKEfOSVwJP",
      "include_colab_link": true
    },
    "kernelspec": {
      "name": "python3",
      "display_name": "Python 3"
    },
    "language_info": {
      "name": "python"
    }
  },
  "cells": [
    {
      "cell_type": "markdown",
      "metadata": {
        "id": "view-in-github",
        "colab_type": "text"
      },
      "source": [
        "<a href=\"https://colab.research.google.com/github/zion6570/NLP_2023/blob/main/%EC%82%AC%EC%9A%A9%EC%9E%90%20%EC%9E%85%EB%A0%A5%EB%B0%9B%EA%B8%B0(input)%20231205.ipynb\" target=\"_parent\"><img src=\"https://colab.research.google.com/assets/colab-badge.svg\" alt=\"Open In Colab\"/></a>"
      ]
    },
    {
      "cell_type": "code",
      "execution_count": 1,
      "metadata": {
        "colab": {
          "base_uri": "https://localhost:8080/"
        },
        "id": "R_eA5dLfO_8t",
        "outputId": "722cd144-2744-4ab9-fc2c-b848d54a7de3"
      },
      "outputs": [
        {
          "output_type": "stream",
          "name": "stdout",
          "text": [
            "<값>을 입력하세요.안녕하세요 파이썬\n",
            "당신이 입력한 값은 <안녕하세요 파이썬>입니다.\n"
          ]
        }
      ],
      "source": [
        "k = input('<값>을 입력하세요.')\n",
        "print('당신이 입력한 값은 <'+ k +'>입니다.')"
      ]
    }
  ]
}