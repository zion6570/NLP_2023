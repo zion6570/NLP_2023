{
  "nbformat": 4,
  "nbformat_minor": 0,
  "metadata": {
    "colab": {
      "provenance": [],
      "authorship_tag": "ABX9TyNGtFIT/AUU/ZTatpTySmyy",
      "include_colab_link": true
    },
    "kernelspec": {
      "name": "python3",
      "display_name": "Python 3"
    },
    "language_info": {
      "name": "python"
    }
  },
  "cells": [
    {
      "cell_type": "markdown",
      "metadata": {
        "id": "view-in-github",
        "colab_type": "text"
      },
      "source": [
        "<a href=\"https://colab.research.google.com/github/zion6570/NLP_2023/blob/main/%ED%8C%8C%EC%9D%B4%EC%8D%AC%20%EC%9E%90%EB%A3%8C%ED%98%95%20%EC%B6%9C%EB%A0%A5%20%EA%B0%9C%EB%85%90%20%EB%B0%B0%EC%9A%B0%EA%B8%B0(print)%20230925.ipynb\" target=\"_parent\"><img src=\"https://colab.research.google.com/assets/colab-badge.svg\" alt=\"Open In Colab\"/></a>"
      ]
    },
    {
      "cell_type": "code",
      "execution_count": 1,
      "metadata": {
        "colab": {
          "base_uri": "https://localhost:8080/"
        },
        "id": "vNxSfQXPc6bS",
        "outputId": "6d4c9c89-9f32-49b4-e8f2-c6d758ed9d70"
      },
      "outputs": [
        {
          "output_type": "stream",
          "name": "stdout",
          "text": [
            "200\n",
            "I love Python\n",
            "['a', 'b', 'c']\n",
            "a\n",
            "{'a': 97, 'b': 98}\n",
            "97\n"
          ]
        }
      ],
      "source": [
        "a = 200\n",
        "msg = 'I love Python'\n",
        "list_data = ['a', 'b', 'c']\n",
        "dict_data = {'a':97, 'b':98}\n",
        "print(a)\n",
        "print(msg)\n",
        "print(list_data)\n",
        "print(list_data[0])\n",
        "print(dict_data)\n",
        "print(dict_data['a'])"
      ]
    }
  ]
}