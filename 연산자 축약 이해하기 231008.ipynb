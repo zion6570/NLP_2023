{
  "nbformat": 4,
  "nbformat_minor": 0,
  "metadata": {
    "colab": {
      "provenance": [],
      "authorship_tag": "ABX9TyP51+c7Ihni8imy6YvztWux",
      "include_colab_link": true
    },
    "kernelspec": {
      "name": "python3",
      "display_name": "Python 3"
    },
    "language_info": {
      "name": "python"
    }
  },
  "cells": [
    {
      "cell_type": "markdown",
      "metadata": {
        "id": "view-in-github",
        "colab_type": "text"
      },
      "source": [
        "<a href=\"https://colab.research.google.com/github/zion6570/NLP_2023/blob/main/%EC%97%B0%EC%82%B0%EC%9E%90%20%EC%B6%95%EC%95%BD%20%EC%9D%B4%ED%95%B4%ED%95%98%EA%B8%B0%20231008.ipynb\" target=\"_parent\"><img src=\"https://colab.research.google.com/assets/colab-badge.svg\" alt=\"Open In Colab\"/></a>"
      ]
    },
    {
      "cell_type": "code",
      "execution_count": 3,
      "metadata": {
        "colab": {
          "base_uri": "https://localhost:8080/"
        },
        "id": "dmOBBY-5d1dA",
        "outputId": "568d90bb-d1ad-451f-899f-1d9f1b79f04d"
      },
      "outputs": [
        {
          "output_type": "stream",
          "name": "stdout",
          "text": [
            "-2.0\n"
          ]
        }
      ],
      "source": [
        "a = 0\n",
        "a += 1  # a = a + 1, a의 값은 1\n",
        "a -= 5  # a = a - 5, a의 값은 -4\n",
        "a *= 2  # a = a * 2, a의 값은 -8\n",
        "a /= 4  # a + a / 4, a의 값은 -2.0\n",
        "\n",
        "print(a)"
      ]
    }
  ]
}