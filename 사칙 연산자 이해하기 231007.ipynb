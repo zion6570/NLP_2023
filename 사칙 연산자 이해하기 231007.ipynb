{
  "nbformat": 4,
  "nbformat_minor": 0,
  "metadata": {
    "colab": {
      "provenance": [],
      "authorship_tag": "ABX9TyNhy+frhSvbHgw1GxPXoxaT",
      "include_colab_link": true
    },
    "kernelspec": {
      "name": "python3",
      "display_name": "Python 3"
    },
    "language_info": {
      "name": "python"
    }
  },
  "cells": [
    {
      "cell_type": "markdown",
      "metadata": {
        "id": "view-in-github",
        "colab_type": "text"
      },
      "source": [
        "<a href=\"https://colab.research.google.com/github/zion6570/NLP_2023/blob/main/%EC%82%AC%EC%B9%99%20%EC%97%B0%EC%82%B0%EC%9E%90%20%EC%9D%B4%ED%95%B4%ED%95%98%EA%B8%B0%20231007.ipynb\" target=\"_parent\"><img src=\"https://colab.research.google.com/assets/colab-badge.svg\" alt=\"Open In Colab\"/></a>"
      ]
    },
    {
      "cell_type": "code",
      "execution_count": 7,
      "metadata": {
        "id": "Ypw9HH2i_n8Y"
      },
      "outputs": [],
      "source": [
        "a = 2\n",
        "b = 4\n",
        "ret1 = a + b  #ret1 = 2 + 4 = 6\n",
        "ret2 = a - b  #ret2 = 2 - 4 = -2\n",
        "ret3 = a * b  #ret3 = 2 * 4 = 8\n",
        "ret4 = a / b  #ret4 = 2 / 4 = 0.5\n",
        "ret5 = a ** b  #ret5 = 2 ** 4 = 16\n",
        "ret6 = a + a * b / a  #ret6 = 2 + 2 * 4 / 2 = 6\n",
        "ret7 = (a + b) * (a - b)  #ret7 = (2 + 4) * (2 - 4) = -12\n",
        "ret8 = a * b ** a  #ret8 = 2 * 4 ** 2 = 32"
      ]
    }
  ]
}