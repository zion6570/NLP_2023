{
  "nbformat": 4,
  "nbformat_minor": 0,
  "metadata": {
    "colab": {
      "provenance": [],
      "authorship_tag": "ABX9TyP5KUAjmdksjbfdAWMDTPmt",
      "include_colab_link": true
    },
    "kernelspec": {
      "name": "python3",
      "display_name": "Python 3"
    },
    "language_info": {
      "name": "python"
    }
  },
  "cells": [
    {
      "cell_type": "markdown",
      "metadata": {
        "id": "view-in-github",
        "colab_type": "text"
      },
      "source": [
        "<a href=\"https://colab.research.google.com/github/zion6570/NLP_2023/blob/main/%EB%A6%AC%EC%8A%A4%ED%8A%B8%20%EC%9D%B4%ED%95%B4%ED%95%98%EA%B8%B0%20(%5B%20%5D)%20231031.ipynb\" target=\"_parent\"><img src=\"https://colab.research.google.com/assets/colab-badge.svg\" alt=\"Open In Colab\"/></a>"
      ]
    },
    {
      "cell_type": "code",
      "execution_count": 2,
      "metadata": {
        "colab": {
          "base_uri": "https://localhost:8080/"
        },
        "id": "giOLGf8wincC",
        "outputId": "c401b187-7768-42b7-b325-3717bdf95301"
      },
      "outputs": [
        {
          "output_type": "stream",
          "name": "stdout",
          "text": [
            "[6, 2, 3, 4, 5]\n",
            "안녕하세요\n"
          ]
        }
      ],
      "source": [
        "list1 = [1,2,3,4,5]\n",
        "list2 = ['a', 'b', 'c']\n",
        "list3 = [1, 'a', 'abc', [1,2,3,4,5], ['a', 'b', 'c']]\n",
        "list1[0] = 6\n",
        "print(list1)\n",
        "def myfunc():\n",
        "  print('안녕하세요')\n",
        "list4 = [1,2,myfunc]\n",
        "list4[2]()"
      ]
    }
  ]
}