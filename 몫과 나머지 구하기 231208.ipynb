{
  "nbformat": 4,
  "nbformat_minor": 0,
  "metadata": {
    "colab": {
      "provenance": [],
      "authorship_tag": "ABX9TyM0V1cgHq0f7DGn4Ogqg8LP",
      "include_colab_link": true
    },
    "kernelspec": {
      "name": "python3",
      "display_name": "Python 3"
    },
    "language_info": {
      "name": "python"
    }
  },
  "cells": [
    {
      "cell_type": "markdown",
      "metadata": {
        "id": "view-in-github",
        "colab_type": "text"
      },
      "source": [
        "<a href=\"https://colab.research.google.com/github/zion6570/NLP_2023/blob/main/%EB%AA%AB%EA%B3%BC%20%EB%82%98%EB%A8%B8%EC%A7%80%20%EA%B5%AC%ED%95%98%EA%B8%B0%20231208.ipynb\" target=\"_parent\"><img src=\"https://colab.research.google.com/assets/colab-badge.svg\" alt=\"Open In Colab\"/></a>"
      ]
    },
    {
      "cell_type": "code",
      "execution_count": null,
      "metadata": {
        "id": "Fjul5c4_7ifg"
      },
      "outputs": [],
      "source": [
        "a = 11113\n",
        "b = 23\n",
        "ret1, ret2 = divmod(a,b)\n",
        "print('<%d/%d>는 몫이 <%d>, 나머지가 <%d>입니다.'%(a,b,ret1,ret2))"
      ]
    }
  ]
}