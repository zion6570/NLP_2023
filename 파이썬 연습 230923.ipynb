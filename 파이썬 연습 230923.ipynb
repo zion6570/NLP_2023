{
  "nbformat": 4,
  "nbformat_minor": 0,
  "metadata": {
    "colab": {
      "provenance": [],
      "authorship_tag": "ABX9TyPP//EzmBO6+CzCTArVRfdD",
      "include_colab_link": true
    },
    "kernelspec": {
      "name": "python3",
      "display_name": "Python 3"
    },
    "language_info": {
      "name": "python"
    }
  },
  "cells": [
    {
      "cell_type": "markdown",
      "metadata": {
        "id": "view-in-github",
        "colab_type": "text"
      },
      "source": [
        "<a href=\"https://colab.research.google.com/github/zion6570/NLP_2023/blob/main/%ED%8C%8C%EC%9D%B4%EC%8D%AC%20%EC%97%B0%EC%8A%B5%20230923.ipynb\" target=\"_parent\"><img src=\"https://colab.research.google.com/assets/colab-badge.svg\" alt=\"Open In Colab\"/></a>"
      ]
    },
    {
      "cell_type": "code",
      "execution_count": 1,
      "metadata": {
        "colab": {
          "base_uri": "https://localhost:8080/"
        },
        "id": "7UhmNyvYQVHF",
        "outputId": "5aba7931-b729-4dee-f053-fcff51aa6c84"
      },
      "outputs": [
        {
          "output_type": "stream",
          "name": "stdout",
          "text": [
            "안녕하세요\n",
            "2\n"
          ]
        }
      ],
      "source": [
        "print('안녕하세요')\n",
        "a = 1\n",
        "b = 1\n",
        "print(a+b)"
      ]
    },
    {
      "cell_type": "code",
      "source": [
        "number = 1\n",
        "print('number+2')"
      ],
      "metadata": {
        "colab": {
          "base_uri": "https://localhost:8080/"
        },
        "id": "MyiT5z98Yeey",
        "outputId": "11a6035b-f7e4-4897-c6c0-259be08ec503"
      },
      "execution_count": 2,
      "outputs": [
        {
          "output_type": "stream",
          "name": "stdout",
          "text": [
            "number+2\n"
          ]
        }
      ]
    }
  ]
}