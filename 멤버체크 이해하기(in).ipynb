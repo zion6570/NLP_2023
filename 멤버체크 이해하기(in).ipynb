{
  "nbformat": 4,
  "nbformat_minor": 0,
  "metadata": {
    "colab": {
      "provenance": [],
      "authorship_tag": "ABX9TyOmL3gEVm26zuZrjEv1Cgzo",
      "include_colab_link": true
    },
    "kernelspec": {
      "name": "python3",
      "display_name": "Python 3"
    },
    "language_info": {
      "name": "python"
    }
  },
  "cells": [
    {
      "cell_type": "markdown",
      "metadata": {
        "id": "view-in-github",
        "colab_type": "text"
      },
      "source": [
        "<a href=\"https://colab.research.google.com/github/zion6570/NLP_2023/blob/main/%EB%A9%A4%EB%B2%84%EC%B2%B4%ED%81%AC%20%EC%9D%B4%ED%95%B4%ED%95%98%EA%B8%B0(in).ipynb\" target=\"_parent\"><img src=\"https://colab.research.google.com/assets/colab-badge.svg\" alt=\"Open In Colab\"/></a>"
      ]
    },
    {
      "cell_type": "code",
      "execution_count": 1,
      "metadata": {
        "colab": {
          "base_uri": "https://localhost:8080/"
        },
        "id": "_E8MumVBwjrT",
        "outputId": "41099355-a235-4b12-fecd-42b08d33aa3f"
      },
      "outputs": [
        {
          "output_type": "stream",
          "name": "stdout",
          "text": [
            "False\n",
            "True\n",
            "True\n",
            "False\n"
          ]
        }
      ],
      "source": [
        "listdata = [1,2,3,4]\n",
        "ret1 = 5 in listdata\n",
        "ret2 = 4 in listdata\n",
        "print(ret1); print(ret2)\n",
        "strdata = 'abcde'\n",
        "ret3 = 'c' in strdata\n",
        "ret4 = '1' in strdata\n",
        "print(ret3); print(ret4)"
      ]
    }
  ]
}