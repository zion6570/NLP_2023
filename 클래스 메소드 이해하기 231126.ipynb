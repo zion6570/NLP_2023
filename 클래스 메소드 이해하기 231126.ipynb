{
  "nbformat": 4,
  "nbformat_minor": 0,
  "metadata": {
    "colab": {
      "provenance": [],
      "authorship_tag": "ABX9TyMKk19DjxjXSZUtQx7cAiYd",
      "include_colab_link": true
    },
    "kernelspec": {
      "name": "python3",
      "display_name": "Python 3"
    },
    "language_info": {
      "name": "python"
    }
  },
  "cells": [
    {
      "cell_type": "markdown",
      "metadata": {
        "id": "view-in-github",
        "colab_type": "text"
      },
      "source": [
        "<a href=\"https://colab.research.google.com/github/zion6570/NLP_2023/blob/main/%ED%81%B4%EB%9E%98%EC%8A%A4%20%EB%A9%94%EC%86%8C%EB%93%9C%20%EC%9D%B4%ED%95%B4%ED%95%98%EA%B8%B0%20231126.ipynb\" target=\"_parent\"><img src=\"https://colab.research.google.com/assets/colab-badge.svg\" alt=\"Open In Colab\"/></a>"
      ]
    },
    {
      "cell_type": "code",
      "execution_count": 7,
      "metadata": {
        "colab": {
          "base_uri": "https://localhost:8080/"
        },
        "id": "T3zK-vJAP-aX",
        "outputId": "060994ab-a754-4765-d784-ecb2257cb0e3"
      },
      "outputs": [
        {
          "output_type": "stream",
          "name": "stdout",
          "text": [
            "안녕하세요\n",
            "철수!다음에 보자!\n"
          ]
        }
      ],
      "source": [
        "class MyClass:\n",
        "  def sayHello(self):\n",
        "    print('안녕하세요')\n",
        "\n",
        "  def sayBye(self, name):\n",
        "    print('%s!다음에 보자!' %name)\n",
        "\n",
        "obj = MyClass()\n",
        "obj.sayHello()\n",
        "obj.sayBye('철수')"
      ]
    }
  ]
}