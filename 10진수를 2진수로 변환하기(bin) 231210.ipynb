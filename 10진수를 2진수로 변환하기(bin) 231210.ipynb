{
  "nbformat": 4,
  "nbformat_minor": 0,
  "metadata": {
    "colab": {
      "provenance": [],
      "authorship_tag": "ABX9TyMwduEUxbGW33Ee08gfmeR5",
      "include_colab_link": true
    },
    "kernelspec": {
      "name": "python3",
      "display_name": "Python 3"
    },
    "language_info": {
      "name": "python"
    }
  },
  "cells": [
    {
      "cell_type": "markdown",
      "metadata": {
        "id": "view-in-github",
        "colab_type": "text"
      },
      "source": [
        "<a href=\"https://colab.research.google.com/github/zion6570/NLP_2023/blob/main/10%EC%A7%84%EC%88%98%EB%A5%BC%202%EC%A7%84%EC%88%98%EB%A1%9C%20%EB%B3%80%ED%99%98%ED%95%98%EA%B8%B0(bin)%20231210.ipynb\" target=\"_parent\"><img src=\"https://colab.research.google.com/assets/colab-badge.svg\" alt=\"Open In Colab\"/></a>"
      ]
    },
    {
      "cell_type": "code",
      "execution_count": 1,
      "metadata": {
        "colab": {
          "base_uri": "https://localhost:8080/"
        },
        "id": "UAv7Dig8IDw1",
        "outputId": "6c63e02a-7733-4bfa-ebd5-31ac4e78a8ee"
      },
      "outputs": [
        {
          "output_type": "stream",
          "name": "stdout",
          "text": [
            "0b11000010b1100010\n",
            "0b11000011\n"
          ]
        }
      ],
      "source": [
        "b1 = bin(97)\n",
        "b2 = bin(98)\n",
        "ret1 = b1  + b2\n",
        "print(ret1)\n",
        "a = int(b1, 2)\n",
        "b = int(b2, 2)\n",
        "ret2 = a + b\n",
        "print(bin(ret2))"
      ]
    }
  ]
}