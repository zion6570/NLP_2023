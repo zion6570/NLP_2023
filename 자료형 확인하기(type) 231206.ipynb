{
  "nbformat": 4,
  "nbformat_minor": 0,
  "metadata": {
    "colab": {
      "provenance": [],
      "authorship_tag": "ABX9TyNW4ie4koHYvFAPzmYx3wlA",
      "include_colab_link": true
    },
    "kernelspec": {
      "name": "python3",
      "display_name": "Python 3"
    },
    "language_info": {
      "name": "python"
    }
  },
  "cells": [
    {
      "cell_type": "markdown",
      "metadata": {
        "id": "view-in-github",
        "colab_type": "text"
      },
      "source": [
        "<a href=\"https://colab.research.google.com/github/zion6570/NLP_2023/blob/main/%EC%9E%90%EB%A3%8C%ED%98%95%20%ED%99%95%EC%9D%B8%ED%95%98%EA%B8%B0(type)%20231206.ipynb\" target=\"_parent\"><img src=\"https://colab.research.google.com/assets/colab-badge.svg\" alt=\"Open In Colab\"/></a>"
      ]
    },
    {
      "cell_type": "code",
      "execution_count": null,
      "metadata": {
        "id": "-Z1mGxswoW-d"
      },
      "outputs": [],
      "source": [
        "numdata = 57\n",
        "strdata = '파이썬'\n",
        "listdata = [1, 2, 3]\n",
        "dictdata = {'a':1, 'b': 2}\n",
        "\n",
        "def func():\n",
        "  print('안녕하세요.')\n",
        "\n",
        "print(type(numdata))\n",
        "print(type(strdata))\n",
        "print(type(listdata))\n",
        "print(type(dictdata))\n",
        "print(type(func))"
      ]
    }
  ]
}