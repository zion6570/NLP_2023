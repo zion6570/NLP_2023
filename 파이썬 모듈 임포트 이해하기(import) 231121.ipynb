{
  "nbformat": 4,
  "nbformat_minor": 0,
  "metadata": {
    "colab": {
      "provenance": [],
      "authorship_tag": "ABX9TyMUt86KEl3IkGc1//M7Ss3d",
      "include_colab_link": true
    },
    "kernelspec": {
      "name": "python3",
      "display_name": "Python 3"
    },
    "language_info": {
      "name": "python"
    }
  },
  "cells": [
    {
      "cell_type": "markdown",
      "metadata": {
        "id": "view-in-github",
        "colab_type": "text"
      },
      "source": [
        "<a href=\"https://colab.research.google.com/github/zion6570/NLP_2023/blob/main/%ED%8C%8C%EC%9D%B4%EC%8D%AC%20%EB%AA%A8%EB%93%88%20%EC%9E%84%ED%8F%AC%ED%8A%B8%20%EC%9D%B4%ED%95%B4%ED%95%98%EA%B8%B0(import)%20231121.ipynb\" target=\"_parent\"><img src=\"https://colab.research.google.com/assets/colab-badge.svg\" alt=\"Open In Colab\"/></a>"
      ]
    },
    {
      "cell_type": "code",
      "execution_count": 3,
      "metadata": {
        "colab": {
          "base_uri": "https://localhost:8080/"
        },
        "id": "GgLnFRDLOc9r",
        "outputId": "db19434d-34f3-43d4-8179-3cf77773aff1"
      },
      "outputs": [
        {
          "output_type": "execute_result",
          "data": {
            "text/plain": [
              "(3, 2, 1)"
            ]
          },
          "metadata": {},
          "execution_count": 3
        }
      ],
      "source": [
        "import time\n",
        "import mylib\n",
        "import mypackage.mylib\n",
        "\n",
        "time.sleep(1)\n",
        "mylib.add_txt('나는', '파이썬이다')\n",
        "mypackage.mylib.reverse(1, 2, 3)"
      ]
    }
  ]
}