{
  "nbformat": 4,
  "nbformat_minor": 0,
  "metadata": {
    "colab": {
      "provenance": [],
      "authorship_tag": "ABX9TyNjt0gyr1CZpyDKGrkQTuAL",
      "include_colab_link": true
    },
    "kernelspec": {
      "name": "python3",
      "display_name": "Python 3"
    },
    "language_info": {
      "name": "python"
    }
  },
  "cells": [
    {
      "cell_type": "markdown",
      "metadata": {
        "id": "view-in-github",
        "colab_type": "text"
      },
      "source": [
        "<a href=\"https://colab.research.google.com/github/zion6570/NLP_2023/blob/main/%EC%8B%9C%ED%80%80%EC%8A%A4%20%EC%9E%90%EB%A3%8C%20%ED%81%AC%EA%B8%B0%20%EC%9D%B4%ED%95%B4%ED%95%98%EA%B8%B0(len)%20231028.ipynb\" target=\"_parent\"><img src=\"https://colab.research.google.com/assets/colab-badge.svg\" alt=\"Open In Colab\"/></a>"
      ]
    },
    {
      "cell_type": "code",
      "execution_count": 2,
      "metadata": {
        "colab": {
          "base_uri": "https://localhost:8080/"
        },
        "id": "yTYeCITtuBmm",
        "outputId": "4ebe93b9-963a-477e-93fd-c214d4b5377b"
      },
      "outputs": [
        {
          "output_type": "stream",
          "name": "stdout",
          "text": [
            "13\n",
            "14\n",
            "5\n",
            "13\n"
          ]
        }
      ],
      "source": [
        "strdata1 = 'I love python'\n",
        "strdata2 = '나는 파이썬을 사랑합니다.'\n",
        "listdata = ['a', 'b', 'c', strdata1, strdata2]\n",
        "print(len(strdata1))\n",
        "print(len(strdata2))\n",
        "print(len(listdata))\n",
        "print(len(listdata[3]))"
      ]
    }
  ]
}