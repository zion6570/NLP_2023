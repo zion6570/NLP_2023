{
  "nbformat": 4,
  "nbformat_minor": 0,
  "metadata": {
    "colab": {
      "provenance": [],
      "authorship_tag": "ABX9TyMuAHDxeVrz1Mqcv6RwsBSV",
      "include_colab_link": true
    },
    "kernelspec": {
      "name": "python3",
      "display_name": "Python 3"
    },
    "language_info": {
      "name": "python"
    }
  },
  "cells": [
    {
      "cell_type": "markdown",
      "metadata": {
        "id": "view-in-github",
        "colab_type": "text"
      },
      "source": [
        "<a href=\"https://colab.research.google.com/github/zion6570/NLP_2023/blob/main/%ED%8C%8C%EC%9D%BC%20%EC%97%B4%EA%B3%A0%20%EB%8B%AB%EA%B8%B0(open%2C%20close)%20231123.ipynb\" target=\"_parent\"><img src=\"https://colab.research.google.com/assets/colab-badge.svg\" alt=\"Open In Colab\"/></a>"
      ]
    },
    {
      "cell_type": "code",
      "source": [
        "f1 = open('text.txt', 'r')\n",
        "f2 = open('d:/myimages/mypicture1.jpg', 'rb')\n",
        "\n",
        "#--------------------------------------\n",
        "#오픈한 파일을 처리하는 코드를 작성함\n",
        "#--------------------------------------\n",
        "\n",
        "f1.close()\n",
        "f2.close()"
      ],
      "metadata": {
        "id": "s_fZczJp-luB"
      },
      "execution_count": null,
      "outputs": []
    }
  ]
}