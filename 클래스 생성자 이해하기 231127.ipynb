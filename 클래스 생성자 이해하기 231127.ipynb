{
  "nbformat": 4,
  "nbformat_minor": 0,
  "metadata": {
    "colab": {
      "provenance": [],
      "authorship_tag": "ABX9TyOo+TVmAR47/CgxooK/XYEh",
      "include_colab_link": true
    },
    "kernelspec": {
      "name": "python3",
      "display_name": "Python 3"
    },
    "language_info": {
      "name": "python"
    }
  },
  "cells": [
    {
      "cell_type": "markdown",
      "metadata": {
        "id": "view-in-github",
        "colab_type": "text"
      },
      "source": [
        "<a href=\"https://colab.research.google.com/github/zion6570/NLP_2023/blob/main/%ED%81%B4%EB%9E%98%EC%8A%A4%20%EC%83%9D%EC%84%B1%EC%9E%90%20%EC%9D%B4%ED%95%B4%ED%95%98%EA%B8%B0%20231127.ipynb\" target=\"_parent\"><img src=\"https://colab.research.google.com/assets/colab-badge.svg\" alt=\"Open In Colab\"/></a>"
      ]
    },
    {
      "cell_type": "code",
      "execution_count": 4,
      "metadata": {
        "colab": {
          "base_uri": "https://localhost:8080/"
        },
        "id": "nczsTDF_BZAS",
        "outputId": "580f478c-ef07-46b4-c509-304e29dbcfeb"
      },
      "outputs": [
        {
          "output_type": "stream",
          "name": "stdout",
          "text": [
            "MyClass 인스턴스 객체가 생성되었습니다\n",
            "안녕하세요\n"
          ]
        }
      ],
      "source": [
        "class MyClass:\n",
        "  def __init__(self):\n",
        "    self.var = '안녕하세요'\n",
        "    print('MyClass 인스턴스 객체가 생성되었습니다')\n",
        "\n",
        "obj = MyClass()\n",
        "print(obj.var)"
      ]
    }
  ]
}