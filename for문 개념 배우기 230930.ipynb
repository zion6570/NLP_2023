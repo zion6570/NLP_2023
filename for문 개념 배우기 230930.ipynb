{
  "nbformat": 4,
  "nbformat_minor": 0,
  "metadata": {
    "colab": {
      "provenance": [],
      "authorship_tag": "ABX9TyM0NhJWzb6qVcKZG7nzILnp",
      "include_colab_link": true
    },
    "kernelspec": {
      "name": "python3",
      "display_name": "Python 3"
    },
    "language_info": {
      "name": "python"
    }
  },
  "cells": [
    {
      "cell_type": "markdown",
      "metadata": {
        "id": "view-in-github",
        "colab_type": "text"
      },
      "source": [
        "<a href=\"https://colab.research.google.com/github/zion6570/NLP_2023/blob/main/for%EB%AC%B8%20%EA%B0%9C%EB%85%90%20%EB%B0%B0%EC%9A%B0%EA%B8%B0%20230930.ipynb\" target=\"_parent\"><img src=\"https://colab.research.google.com/assets/colab-badge.svg\" alt=\"Open In Colab\"/></a>"
      ]
    },
    {
      "cell_type": "code",
      "execution_count": 1,
      "metadata": {
        "colab": {
          "base_uri": "https://localhost:8080/"
        },
        "id": "ot4Gq3Z70STN",
        "outputId": "3b454fc1-a593-42bd-c459-ab8b463f6eee"
      },
      "outputs": [
        {
          "output_type": "stream",
          "name": "stdout",
          "text": [
            "1\n",
            "2\n",
            "3\n"
          ]
        }
      ],
      "source": [
        ">>> scope = [1,2,3,4,5]\n",
        ">>> for x in scope:\n",
        "...     print(x)\n",
        "...     if x < 3:\n",
        "...             continue\n",
        "...     else:\n",
        "...             break"
      ]
    },
    {
      "cell_type": "code",
      "source": [
        "scope = [1,2,3,4,5]\n",
        "for x in scope:\n",
        "  print(x)\n",
        "  if x >= 3:\n",
        "    break"
      ],
      "metadata": {
        "colab": {
          "base_uri": "https://localhost:8080/"
        },
        "id": "VOdrQPyM0rp4",
        "outputId": "dd510160-ced8-44d8-dca3-34583faa47a8"
      },
      "execution_count": 2,
      "outputs": [
        {
          "output_type": "stream",
          "name": "stdout",
          "text": [
            "1\n",
            "2\n",
            "3\n"
          ]
        }
      ]
    },
    {
      "cell_type": "code",
      "source": [
        "scope = [1,2,3]\n",
        "for x in scope:\n",
        " print(x)\n",
        " #break\n",
        "else:\n",
        " print('Perfect')"
      ],
      "metadata": {
        "colab": {
          "base_uri": "https://localhost:8080/"
        },
        "id": "xI6s6ImQ1BeA",
        "outputId": "eae6ad22-d4d1-48a9-a522-f79ec65b4762"
      },
      "execution_count": 9,
      "outputs": [
        {
          "output_type": "stream",
          "name": "stdout",
          "text": [
            "1\n",
            "2\n",
            "3\n",
            "Perfect\n"
          ]
        }
      ]
    },
    {
      "cell_type": "code",
      "source": [
        "scope = [1,2,3]\n",
        "for x in scope:\n",
        " print(x)\n",
        " break\n",
        "else:\n",
        " print('Perfect')"
      ],
      "metadata": {
        "colab": {
          "base_uri": "https://localhost:8080/"
        },
        "id": "16O9AFDW1hXH",
        "outputId": "5a56fb65-e97d-49fa-83ab-14bd64648bf7"
      },
      "execution_count": 10,
      "outputs": [
        {
          "output_type": "stream",
          "name": "stdout",
          "text": [
            "1\n"
          ]
        }
      ]
    }
  ]
}