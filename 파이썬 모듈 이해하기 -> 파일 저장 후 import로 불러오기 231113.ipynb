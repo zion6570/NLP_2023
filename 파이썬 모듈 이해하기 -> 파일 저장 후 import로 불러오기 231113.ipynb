{
  "nbformat": 4,
  "nbformat_minor": 0,
  "metadata": {
    "colab": {
      "provenance": [],
      "authorship_tag": "ABX9TyPHOV/sVPc/8ESuLxYpAgV0",
      "include_colab_link": true
    },
    "kernelspec": {
      "name": "python3",
      "display_name": "Python 3"
    },
    "language_info": {
      "name": "python"
    }
  },
  "cells": [
    {
      "cell_type": "markdown",
      "metadata": {
        "id": "view-in-github",
        "colab_type": "text"
      },
      "source": [
        "<a href=\"https://colab.research.google.com/github/zion6570/NLP_2023/blob/main/%ED%8C%8C%EC%9D%B4%EC%8D%AC%20%EB%AA%A8%EB%93%88%20%EC%9D%B4%ED%95%B4%ED%95%98%EA%B8%B0%20-%3E%20%ED%8C%8C%EC%9D%BC%20%EC%A0%80%EC%9E%A5%20%ED%9B%84%20import%EB%A1%9C%20%EB%B6%88%EB%9F%AC%EC%98%A4%EA%B8%B0%20231113.ipynb\" target=\"_parent\"><img src=\"https://colab.research.google.com/assets/colab-badge.svg\" alt=\"Open In Colab\"/></a>"
      ]
    },
    {
      "cell_type": "code",
      "source": [
        "import mylib\n",
        "\n",
        "ret1 = mylib.add_txt('대한민국', '1등')\n",
        "ret2 = mylib.reverse(1, 2, 3)\n",
        "print(ret1)\n",
        "print(ret2)"
      ],
      "metadata": {
        "colab": {
          "base_uri": "https://localhost:8080/"
        },
        "id": "m4ElXlOpE-9u",
        "outputId": "069cbfe7-8774-462a-ff0d-50779983bf38"
      },
      "execution_count": 12,
      "outputs": [
        {
          "output_type": "stream",
          "name": "stdout",
          "text": [
            "대한민국:1등\n",
            "(3, 2, 1)\n"
          ]
        }
      ]
    }
  ]
}