{
  "nbformat": 4,
  "nbformat_minor": 0,
  "metadata": {
    "colab": {
      "provenance": [],
      "authorship_tag": "ABX9TyPlKGrgOMYIe0Fyhmg/I0Ag",
      "include_colab_link": true
    },
    "kernelspec": {
      "name": "python3",
      "display_name": "Python 3"
    },
    "language_info": {
      "name": "python"
    }
  },
  "cells": [
    {
      "cell_type": "markdown",
      "metadata": {
        "id": "view-in-github",
        "colab_type": "text"
      },
      "source": [
        "<a href=\"https://colab.research.google.com/github/zion6570/NLP_2023/blob/main/%EB%B0%98%EC%98%AC%EB%A6%BC%EC%88%98%20%EA%B5%AC%ED%95%98%EA%B8%B0(round)%20231215.ipynb\" target=\"_parent\"><img src=\"https://colab.research.google.com/assets/colab-badge.svg\" alt=\"Open In Colab\"/></a>"
      ]
    },
    {
      "cell_type": "code",
      "execution_count": 1,
      "metadata": {
        "colab": {
          "base_uri": "https://localhost:8080/"
        },
        "id": "sXFXQYcINrZv",
        "outputId": "cf7afea8-cac2-4b95-acaf-172a15d10504"
      },
      "outputs": [
        {
          "output_type": "stream",
          "name": "stdout",
          "text": [
            "1118\n",
            "17\n",
            "1120\n",
            "16.55\n"
          ]
        }
      ],
      "source": [
        "ret1 = round(1118)\n",
        "ret2 = round(16.554)\n",
        "ret3 = round(1118, -1)\n",
        "ret4 = round(16.554, 2)\n",
        "print(ret1)\n",
        "print(ret2)\n",
        "print(ret3)\n",
        "print(ret4)"
      ]
    }
  ]
}