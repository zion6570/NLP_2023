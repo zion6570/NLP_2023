{
  "nbformat": 4,
  "nbformat_minor": 0,
  "metadata": {
    "colab": {
      "provenance": [],
      "authorship_tag": "ABX9TyO/vZFLWTZU4OYgAtBSvNVx",
      "include_colab_link": true
    },
    "kernelspec": {
      "name": "python3",
      "display_name": "Python 3"
    },
    "language_info": {
      "name": "python"
    }
  },
  "cells": [
    {
      "cell_type": "markdown",
      "metadata": {
        "id": "view-in-github",
        "colab_type": "text"
      },
      "source": [
        "<a href=\"https://colab.research.google.com/github/zion6570/NLP_2023/blob/main/%ED%81%B4%EB%9E%98%EC%8A%A4%20%EB%A9%A4%EB%B2%84%EC%99%80%20%EC%9D%B8%EC%8A%A4%ED%84%B4%EC%8A%A4%20%EB%A9%A4%EB%B2%84%20%EC%9D%B4%ED%95%B4%ED%95%98%EA%B8%B0.ipynb\" target=\"_parent\"><img src=\"https://colab.research.google.com/assets/colab-badge.svg\" alt=\"Open In Colab\"/></a>"
      ]
    },
    {
      "cell_type": "code",
      "execution_count": 2,
      "metadata": {
        "colab": {
          "base_uri": "https://localhost:8080/"
        },
        "id": "IGqRr5fGv4q8",
        "outputId": "d7cac4a5-dfd0-4c65-eaf6-cf71138c95c6"
      },
      "outputs": [
        {
          "output_type": "stream",
          "name": "stdout",
          "text": [
            "안녕하세요!!\n",
            "안녕\n",
            "안녕하세요!!\n"
          ]
        }
      ],
      "source": [
        "class MyClass:\n",
        "  var = '안녕하세요!!'\n",
        "  def sayHello(self):\n",
        "    param1 = '안녕'\n",
        "    self.param2 = '하이'\n",
        "    print(param1)\n",
        "    print(self.var)\n",
        "\n",
        "obj = MyClass()\n",
        "print(obj.var)\n",
        "obj.sayHello()\n",
        "#obj.param1"
      ]
    }
  ]
}