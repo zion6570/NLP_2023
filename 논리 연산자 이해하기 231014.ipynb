{
  "nbformat": 4,
  "nbformat_minor": 0,
  "metadata": {
    "colab": {
      "provenance": [],
      "authorship_tag": "ABX9TyPA3YLj4QwqvmtbwY9iMQ6H",
      "include_colab_link": true
    },
    "kernelspec": {
      "name": "python3",
      "display_name": "Python 3"
    },
    "language_info": {
      "name": "python"
    }
  },
  "cells": [
    {
      "cell_type": "markdown",
      "metadata": {
        "id": "view-in-github",
        "colab_type": "text"
      },
      "source": [
        "<a href=\"https://colab.research.google.com/github/zion6570/NLP_2023/blob/main/%EB%85%BC%EB%A6%AC%20%EC%97%B0%EC%82%B0%EC%9E%90%20%EC%9D%B4%ED%95%B4%ED%95%98%EA%B8%B0%20231014.ipynb\" target=\"_parent\"><img src=\"https://colab.research.google.com/assets/colab-badge.svg\" alt=\"Open In Colab\"/></a>"
      ]
    },
    {
      "cell_type": "code",
      "execution_count": 1,
      "metadata": {
        "colab": {
          "base_uri": "https://localhost:8080/"
        },
        "id": "vp9_LiCUgCU1",
        "outputId": "9d58e8b3-37be-46c0-d269-6827abed3aa5"
      },
      "outputs": [
        {
          "output_type": "stream",
          "name": "stdout",
          "text": [
            "False\n",
            "True\n",
            "True\n",
            "False\n",
            "False\n",
            "True\n"
          ]
        }
      ],
      "source": [
        "boo11 = True; boo12 = False; boo13 = True; boo14 = False\n",
        "print(boo11 and boo12)\n",
        "print(boo11 and boo13)\n",
        "print(boo12 or boo13)\n",
        "print(boo12 or boo14)\n",
        "print(not boo11)\n",
        "print(not boo12)"
      ]
    }
  ]
}