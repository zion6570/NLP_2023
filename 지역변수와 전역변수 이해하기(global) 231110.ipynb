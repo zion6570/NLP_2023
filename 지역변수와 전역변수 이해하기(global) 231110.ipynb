{
  "nbformat": 4,
  "nbformat_minor": 0,
  "metadata": {
    "colab": {
      "provenance": [],
      "authorship_tag": "ABX9TyPrrNx7efTbFBaUuM+5p7rL",
      "include_colab_link": true
    },
    "kernelspec": {
      "name": "python3",
      "display_name": "Python 3"
    },
    "language_info": {
      "name": "python"
    }
  },
  "cells": [
    {
      "cell_type": "markdown",
      "metadata": {
        "id": "view-in-github",
        "colab_type": "text"
      },
      "source": [
        "<a href=\"https://colab.research.google.com/github/zion6570/NLP_2023/blob/main/%EC%A7%80%EC%97%AD%EB%B3%80%EC%88%98%EC%99%80%20%EC%A0%84%EC%97%AD%EB%B3%80%EC%88%98%20%EC%9D%B4%ED%95%B4%ED%95%98%EA%B8%B0(global)%20231110.ipynb\" target=\"_parent\"><img src=\"https://colab.research.google.com/assets/colab-badge.svg\" alt=\"Open In Colab\"/></a>"
      ]
    },
    {
      "cell_type": "code",
      "execution_count": 2,
      "metadata": {
        "colab": {
          "base_uri": "https://localhost:8080/"
        },
        "id": "GG59LHcwoFRJ",
        "outputId": "701e9907-c81f-4424-cb54-e30b90f6f439"
      },
      "outputs": [
        {
          "output_type": "stream",
          "name": "stdout",
          "text": [
            "지역변수\n",
            "전역변수\n",
            "10\n",
            "10\n",
            "10\n",
            "50\n"
          ]
        }
      ],
      "source": [
        "param = 10\n",
        "strdata = '전역변수'\n",
        "\n",
        "def func1():\n",
        "  strdata = '지역변수'\n",
        "  print(strdata)\n",
        "\n",
        "def func2(param):\n",
        "  param = 1\n",
        "\n",
        "def func3():\n",
        "  global param\n",
        "  param = 50\n",
        "\n",
        "func1()\n",
        "print(strdata)\n",
        "print(param)\n",
        "func2(param)\n",
        "print(param)\n",
        "print(param)\n",
        "func3()\n",
        "print(param)"
      ]
    }
  ]
}