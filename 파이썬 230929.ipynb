{
  "nbformat": 4,
  "nbformat_minor": 0,
  "metadata": {
    "colab": {
      "provenance": [],
      "authorship_tag": "ABX9TyMYAnEEwGjpZEmyN/U8Wje7",
      "include_colab_link": true
    },
    "kernelspec": {
      "name": "python3",
      "display_name": "Python 3"
    },
    "language_info": {
      "name": "python"
    }
  },
  "cells": [
    {
      "cell_type": "markdown",
      "metadata": {
        "id": "view-in-github",
        "colab_type": "text"
      },
      "source": [
        "<a href=\"https://colab.research.google.com/github/zion6570/NLP_2023/blob/main/%ED%8C%8C%EC%9D%B4%EC%8D%AC%20230929.ipynb\" target=\"_parent\"><img src=\"https://colab.research.google.com/assets/colab-badge.svg\" alt=\"Open In Colab\"/></a>"
      ]
    },
    {
      "cell_type": "code",
      "execution_count": 1,
      "metadata": {
        "colab": {
          "base_uri": "https://localhost:8080/"
        },
        "id": "JT3JLyHO0Mt-",
        "outputId": "1942cb29-80ae-4e5c-c440-cbe31fbc9f17"
      },
      "outputs": [
        {
          "output_type": "stream",
          "name": "stdout",
          "text": [
            "a가 listdata에 있습니다.\n",
            "['a', 'b', 'c']\n"
          ]
        }
      ],
      "source": [
        ">>> listdata = ['a', 'b', 'c']\n",
        ">>> if 'a' in listdata:\n",
        "...     print('a가 listdata에 있습니다.')\n",
        "...     print(listdata)\n",
        "... else:\n",
        "...     print('a가 listdata에 존재하지 않습니다.')"
      ]
    },
    {
      "cell_type": "code",
      "source": [
        ">>> x = 1\n",
        ">>> y = 2\n",
        ">>> if x >= y:\n",
        "...     print('x가 y보다 크거나 같습니다.')\n",
        "... else:\n",
        "...     print('x가 y보다 작습니다.')"
      ],
      "metadata": {
        "colab": {
          "base_uri": "https://localhost:8080/"
        },
        "id": "txwNDDmoDhVb",
        "outputId": "04333ff4-7cda-4fae-b2b7-59b85d893f23"
      },
      "execution_count": 5,
      "outputs": [
        {
          "output_type": "stream",
          "name": "stdout",
          "text": [
            "x가 y보다 작습니다.\n"
          ]
        }
      ]
    },
    {
      "cell_type": "code",
      "source": [
        ">>> x = 7\n",
        ">>> y = 2\n",
        ">>> if x >= y:\n",
        "...     print('x가 y보다 크거나 같습니다.')\n",
        "... else:\n",
        "...     print('x가 y보다 작습니다.')"
      ],
      "metadata": {
        "colab": {
          "base_uri": "https://localhost:8080/"
        },
        "id": "NXJ6jYnZEOVt",
        "outputId": "03295a23-ada0-4d1e-f101-f7d7d6c69b66"
      },
      "execution_count": 4,
      "outputs": [
        {
          "output_type": "stream",
          "name": "stdout",
          "text": [
            "x가 y보다 크거나 같습니다.\n"
          ]
        }
      ]
    },
    {
      "cell_type": "code",
      "source": [
        ">>> x = 1\n",
        ">>> y = 2\n",
        ">>> if x > y:\n",
        "...     print('x가 y보다 큽니다.')\n",
        "... elif x < y:\n",
        "...     print('x가 y보다 작습니다.')\n",
        "... else:\n",
        "...     print('x와 y가 같습니다.')\n"
      ],
      "metadata": {
        "colab": {
          "base_uri": "https://localhost:8080/"
        },
        "id": "TM3eiFKkESkt",
        "outputId": "146eefae-dc6a-4efa-81dd-f00024b31a28"
      },
      "execution_count": 6,
      "outputs": [
        {
          "output_type": "stream",
          "name": "stdout",
          "text": [
            "x가 y보다 작습니다.\n"
          ]
        }
      ]
    },
    {
      "cell_type": "code",
      "source": [
        ">>> x = 2\n",
        ">>> y = 2\n",
        ">>> if x > y:\n",
        "...     print('x가 y보다 큽니다.')\n",
        "... elif x < y:\n",
        "...     print('x가 y보다 작습니다.')\n",
        "... else:\n",
        "...     print('x와 y가 같습니다.')\n"
      ],
      "metadata": {
        "colab": {
          "base_uri": "https://localhost:8080/"
        },
        "id": "wZDpxl4YExAn",
        "outputId": "971823be-0f6f-4a3b-f914-ecc29b371920"
      },
      "execution_count": 7,
      "outputs": [
        {
          "output_type": "stream",
          "name": "stdout",
          "text": [
            "x와 y가 같습니다.\n"
          ]
        }
      ]
    },
    {
      "cell_type": "code",
      "source": [
        ">>> x = 3\n",
        ">>> y = 2\n",
        ">>> if x > y:\n",
        "...     print('x가 y보다 큽니다.')\n",
        "... elif x < y:\n",
        "...     print('x가 y보다 작습니다.')\n",
        "... else:\n",
        "...     print('x와 y가 같습니다.')\n"
      ],
      "metadata": {
        "colab": {
          "base_uri": "https://localhost:8080/"
        },
        "id": "3Dw0DWnBEzSc",
        "outputId": "719ea82a-abf2-46ad-b77e-15947fd59f02"
      },
      "execution_count": 8,
      "outputs": [
        {
          "output_type": "stream",
          "name": "stdout",
          "text": [
            "x가 y보다 큽니다.\n"
          ]
        }
      ]
    },
    {
      "cell_type": "code",
      "source": [
        ">>> scope = [1,2,3,4,5]\n",
        ">>> for x in scope:\n",
        "...     print(x)"
      ],
      "metadata": {
        "colab": {
          "base_uri": "https://localhost:8080/"
        },
        "id": "Wup8GzTGFvhb",
        "outputId": "3f989fed-3ad1-4da0-e483-dc08e3dd566e"
      },
      "execution_count": 9,
      "outputs": [
        {
          "output_type": "stream",
          "name": "stdout",
          "text": [
            "1\n",
            "2\n",
            "3\n",
            "4\n",
            "5\n"
          ]
        }
      ]
    },
    {
      "cell_type": "code",
      "source": [
        ">>> str = 'abcdef'\n",
        ">>> for c in str:\n",
        "...     print(c)"
      ],
      "metadata": {
        "colab": {
          "base_uri": "https://localhost:8080/"
        },
        "id": "VaUH3CyFGHU1",
        "outputId": "5cce36c4-c2e5-44d1-eccf-37975efc72f6"
      },
      "execution_count": 10,
      "outputs": [
        {
          "output_type": "stream",
          "name": "stdout",
          "text": [
            "a\n",
            "b\n",
            "c\n",
            "d\n",
            "e\n",
            "f\n"
          ]
        }
      ]
    },
    {
      "cell_type": "code",
      "source": [
        ">>> list = [1,2,3,4,5]\n",
        ">>> for c in list:\n",
        "...     print(c)"
      ],
      "metadata": {
        "colab": {
          "base_uri": "https://localhost:8080/"
        },
        "id": "qoJEUaT0GQCr",
        "outputId": "f7e7ccd3-7df3-44ab-f1ab-33b7a952a154"
      },
      "execution_count": 11,
      "outputs": [
        {
          "output_type": "stream",
          "name": "stdout",
          "text": [
            "1\n",
            "2\n",
            "3\n",
            "4\n",
            "5\n"
          ]
        }
      ]
    },
    {
      "cell_type": "code",
      "source": [
        ">>> ascii_codes = {'a':97, 'b':98, 'c':99}\n",
        ">>> for c in ascii_codes:\n",
        "...     print(c)"
      ],
      "metadata": {
        "colab": {
          "base_uri": "https://localhost:8080/"
        },
        "id": "Gr4N-Z8RGhLg",
        "outputId": "ec6f04f6-4289-468b-88b0-3be5683c9ed1"
      },
      "execution_count": 12,
      "outputs": [
        {
          "output_type": "stream",
          "name": "stdout",
          "text": [
            "a\n",
            "b\n",
            "c\n"
          ]
        }
      ]
    },
    {
      "cell_type": "code",
      "source": [
        ">>> for c in range(10):\n",
        "...     print(c)"
      ],
      "metadata": {
        "colab": {
          "base_uri": "https://localhost:8080/"
        },
        "id": "YH79dzFbGho3",
        "outputId": "7c7507d7-b88a-427f-d938-51ad1b1db177"
      },
      "execution_count": 13,
      "outputs": [
        {
          "output_type": "stream",
          "name": "stdout",
          "text": [
            "0\n",
            "1\n",
            "2\n",
            "3\n",
            "4\n",
            "5\n",
            "6\n",
            "7\n",
            "8\n",
            "9\n"
          ]
        }
      ]
    }
  ]
}