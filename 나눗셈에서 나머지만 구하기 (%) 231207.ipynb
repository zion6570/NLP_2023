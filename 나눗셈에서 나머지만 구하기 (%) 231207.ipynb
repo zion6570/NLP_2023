{
  "nbformat": 4,
  "nbformat_minor": 0,
  "metadata": {
    "colab": {
      "provenance": [],
      "authorship_tag": "ABX9TyM3Mp3qw+x2Jt5mHQzpwEdw",
      "include_colab_link": true
    },
    "kernelspec": {
      "name": "python3",
      "display_name": "Python 3"
    },
    "language_info": {
      "name": "python"
    }
  },
  "cells": [
    {
      "cell_type": "markdown",
      "metadata": {
        "id": "view-in-github",
        "colab_type": "text"
      },
      "source": [
        "<a href=\"https://colab.research.google.com/github/zion6570/NLP_2023/blob/main/%EB%82%98%EB%88%97%EC%85%88%EC%97%90%EC%84%9C%20%EB%82%98%EB%A8%B8%EC%A7%80%EB%A7%8C%20%EA%B5%AC%ED%95%98%EA%B8%B0%20(%25)%20231207.ipynb\" target=\"_parent\"><img src=\"https://colab.research.google.com/assets/colab-badge.svg\" alt=\"Open In Colab\"/></a>"
      ]
    },
    {
      "cell_type": "code",
      "execution_count": 1,
      "metadata": {
        "colab": {
          "base_uri": "https://localhost:8080/"
        },
        "id": "UuXw5eIKpbim",
        "outputId": "13832f84-1fe7-4fe1-e720-803cd9697803"
      },
      "outputs": [
        {
          "output_type": "stream",
          "name": "stdout",
          "text": [
            "<11113>를 <23>로 나누면 <4>가 나머지로 남습니다.\n"
          ]
        }
      ],
      "source": [
        "a = 11113\n",
        "b = 23\n",
        "ret = a%b\n",
        "print('<%d>를 <%d>로 나누면 <%d>가 나머지로 남습니다.' %(a, b, ret))"
      ]
    }
  ]
}