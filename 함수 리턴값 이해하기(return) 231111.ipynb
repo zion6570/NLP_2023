{
  "nbformat": 4,
  "nbformat_minor": 0,
  "metadata": {
    "colab": {
      "provenance": [],
      "authorship_tag": "ABX9TyN83tEy9dDgyT5FvQqnBKIQ",
      "include_colab_link": true
    },
    "kernelspec": {
      "name": "python3",
      "display_name": "Python 3"
    },
    "language_info": {
      "name": "python"
    }
  },
  "cells": [
    {
      "cell_type": "markdown",
      "metadata": {
        "id": "view-in-github",
        "colab_type": "text"
      },
      "source": [
        "<a href=\"https://colab.research.google.com/github/zion6570/NLP_2023/blob/main/%ED%95%A8%EC%88%98%20%EB%A6%AC%ED%84%B4%EA%B0%92%20%EC%9D%B4%ED%95%B4%ED%95%98%EA%B8%B0(return)%20231111.ipynb\" target=\"_parent\"><img src=\"https://colab.research.google.com/assets/colab-badge.svg\" alt=\"Open In Colab\"/></a>"
      ]
    },
    {
      "cell_type": "code",
      "execution_count": 2,
      "metadata": {
        "colab": {
          "base_uri": "https://localhost:8080/"
        },
        "id": "DyxuzRHLSOCX",
        "outputId": "9f22721f-5afa-460c-ba00-16883a4f1d26"
      },
      "outputs": [
        {
          "output_type": "stream",
          "name": "stdout",
          "text": [
            "(3, 2, 1)\n",
            "c\n",
            "b\n",
            "a\n"
          ]
        }
      ],
      "source": [
        "def reverse(x, y, z):\n",
        "  return z, y, x\n",
        "\n",
        "ret = reverse(1,2,3)\n",
        "print(ret)\n",
        "\n",
        "r1, r2, r3 = reverse('a', 'b', 'c')\n",
        "print(r1);print(r2);print(r3)"
      ]
    }
  ]
}