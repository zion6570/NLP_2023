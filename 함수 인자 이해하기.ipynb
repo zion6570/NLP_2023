{
  "nbformat": 4,
  "nbformat_minor": 0,
  "metadata": {
    "colab": {
      "provenance": [],
      "authorship_tag": "ABX9TyN47iQn8ZEwkDGX4RbUcuOV",
      "include_colab_link": true
    },
    "kernelspec": {
      "name": "python3",
      "display_name": "Python 3"
    },
    "language_info": {
      "name": "python"
    }
  },
  "cells": [
    {
      "cell_type": "markdown",
      "metadata": {
        "id": "view-in-github",
        "colab_type": "text"
      },
      "source": [
        "<a href=\"https://colab.research.google.com/github/zion6570/NLP_2023/blob/main/%ED%95%A8%EC%88%98%20%EC%9D%B8%EC%9E%90%20%EC%9D%B4%ED%95%B4%ED%95%98%EA%B8%B0.ipynb\" target=\"_parent\"><img src=\"https://colab.research.google.com/assets/colab-badge.svg\" alt=\"Open In Colab\"/></a>"
      ]
    },
    {
      "cell_type": "code",
      "execution_count": 2,
      "metadata": {
        "colab": {
          "base_uri": "https://localhost:8080/"
        },
        "id": "SCr6epJrGf-b",
        "outputId": "feaccab6-d781-4120-bbe2-11529927d406"
      },
      "outputs": [
        {
          "output_type": "stream",
          "name": "stdout",
          "text": [
            "베스트:파이썬\n",
            "1등:대한민국\n",
            "()\n",
            "(3, 5, 1, 5)\n",
            "{}\n",
            "{'depth': 50, 'color': 'blue'}\n"
          ]
        }
      ],
      "source": [
        "def add_txt(t1, t2 = '파이썬'):\n",
        "  print(t1 + ':' + t2)\n",
        "\n",
        "add_txt('베스트')\n",
        "add_txt(t2 = '대한민국', t1 = '1등')\n",
        "\n",
        "def func1(*args):\n",
        "  print(args)\n",
        "\n",
        "def func2(width, height, **kwargs):\n",
        "  print(kwargs)\n",
        "\n",
        "func1()\n",
        "func1(3, 5, 1, 5)\n",
        "func2(10, 20)\n",
        "func2(10, 20, depth = 50, color = 'blue')"
      ]
    }
  ]
}