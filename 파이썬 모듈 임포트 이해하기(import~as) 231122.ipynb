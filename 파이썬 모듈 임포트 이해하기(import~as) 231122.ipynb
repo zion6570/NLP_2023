{
  "nbformat": 4,
  "nbformat_minor": 0,
  "metadata": {
    "colab": {
      "provenance": [],
      "authorship_tag": "ABX9TyNBBuoXkKjQiFKiMRSVRTlv",
      "include_colab_link": true
    },
    "kernelspec": {
      "name": "python3",
      "display_name": "Python 3"
    },
    "language_info": {
      "name": "python"
    }
  },
  "cells": [
    {
      "cell_type": "markdown",
      "metadata": {
        "id": "view-in-github",
        "colab_type": "text"
      },
      "source": [
        "<a href=\"https://colab.research.google.com/github/zion6570/NLP_2023/blob/main/%ED%8C%8C%EC%9D%B4%EC%8D%AC%20%EB%AA%A8%EB%93%88%20%EC%9E%84%ED%8F%AC%ED%8A%B8%20%EC%9D%B4%ED%95%B4%ED%95%98%EA%B8%B0(import~as)%20231122.ipynb\" target=\"_parent\"><img src=\"https://colab.research.google.com/assets/colab-badge.svg\" alt=\"Open In Colab\"/></a>"
      ]
    },
    {
      "cell_type": "code",
      "execution_count": 1,
      "metadata": {
        "id": "oixG07HjFRLI"
      },
      "outputs": [],
      "source": [
        "import mypackage as mp\n",
        "import mypackage.mylib as ml\n",
        "\n",
        "ret1 = mp.mylib.add_txt('대한민국', '1등')\n",
        "ret2 = ml.reverse(1, 2, 3)"
      ]
    }
  ]
}